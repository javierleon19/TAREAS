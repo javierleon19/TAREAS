{
  "nbformat": 4,
  "nbformat_minor": 0,
  "metadata": {
    "colab": {
      "name": "Tarea 3.ipynb",
      "provenance": [],
      "collapsed_sections": [],
      "authorship_tag": "ABX9TyPkxloxhmnj+iKOzBBT0OEG",
      "include_colab_link": true
    },
    "kernelspec": {
      "name": "python3",
      "display_name": "Python 3"
    },
    "language_info": {
      "name": "python"
    }
  },
  "cells": [
    {
      "cell_type": "markdown",
      "metadata": {
        "id": "view-in-github",
        "colab_type": "text"
      },
      "source": [
        "<a href=\"https://colab.research.google.com/github/javierleon19/TAREAS/blob/main/Tarea_3.ipynb\" target=\"_parent\"><img src=\"https://colab.research.google.com/assets/colab-badge.svg\" alt=\"Open In Colab\"/></a>"
      ]
    },
    {
      "cell_type": "markdown",
      "metadata": {
        "id": "lguO8ImO3WFm"
      },
      "source": [
        "#Tarea 3\n",
        "Realizar un programa que permita levantar la comanda de un restaurante, de la forma:\n",
        "\n",
        "menu_select(mesa=3,comensal=2,entrada=\"Ensalada verde\", medio=\"crema de zanahoria\",fuerte=\"filete\" adicionales=\"Filete término medio, la ensalada sin ningun tipo de semilla, Adereso Ranch\")\n",
        "\n"
      ]
    },
    {
      "cell_type": "code",
      "metadata": {
        "colab": {
          "base_uri": "https://localhost:8080/"
        },
        "id": "prA2w3WR3hpf",
        "outputId": "f40d7d9a-def5-4d14-ddf7-3e5777d6309c"
      },
      "source": [
        "#Francisco Javier Gómez León \n",
        "menu_select = { \"mesa\" : 3 ,\n",
        "                \"comensal\" : 2 ,\n",
        "                \"entrada\" : \"Ensalada verde\" , \n",
        "                \"medio\" : \"crema de zanahoria\" , \n",
        "                \"fuerte\" : \"filete\" , \n",
        "                \"adicionales\" : \"Filete término medio, la ensalada sin ningun tipo de semilla, Adereso Ranch\" }\n",
        "#print( menu_select )\n",
        "#ahora si comencemos \n",
        "print((f\" Detalle:\\n\"),\n",
        "     (f\"MESA: {menu_select['mesa']}\\n\"),\n",
        "     (f\"COMENSAL: {menu_select['comensal']}\\n\"),\n",
        "     (f\"MEDIO: {menu_select['medio']}\\n\"),\n",
        "     (f\"FUERTE: {menu_select['fuerte']}\\n\"),\n",
        "     (f\"ADICIONALES: {menu_select['adicionales']}\\n\"))\n",
        "\n",
        "   "
      ],
      "execution_count": 3,
      "outputs": [
        {
          "output_type": "stream",
          "name": "stdout",
          "text": [
            " Detalle:\n",
            " MESA: 3\n",
            " COMENSAL: 2\n",
            " MEDIO: crema de zanahoria\n",
            " FUERTE: filete\n",
            " ADICIONALES: Filete término medio, la ensalada sin ningun tipo de semilla, Adereso Ranch\n",
            "\n"
          ]
        }
      ]
    }
  ]
}