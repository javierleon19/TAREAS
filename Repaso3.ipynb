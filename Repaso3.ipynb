{
  "nbformat": 4,
  "nbformat_minor": 0,
  "metadata": {
    "colab": {
      "name": "Repaso3.ipynb",
      "provenance": [],
      "collapsed_sections": [],
      "authorship_tag": "ABX9TyM1C0hxnMB4DtUrJSVwTo7A",
      "include_colab_link": true
    },
    "kernelspec": {
      "name": "python3",
      "display_name": "Python 3"
    },
    "language_info": {
      "name": "python"
    }
  },
  "cells": [
    {
      "cell_type": "markdown",
      "metadata": {
        "id": "view-in-github",
        "colab_type": "text"
      },
      "source": [
        "<a href=\"https://colab.research.google.com/github/javierleon19/TAREAS/blob/main/Repaso3.ipynb\" target=\"_parent\"><img src=\"https://colab.research.google.com/assets/colab-badge.svg\" alt=\"Open In Colab\"/></a>"
      ]
    },
    {
      "cell_type": "markdown",
      "metadata": {
        "id": "cPORupzDJROE"
      },
      "source": [
        "#default y funciones\n",
        "hay ocaciones qen que es necesario la declaracion de valores por defecto en los argumentos de una funcion \n"
      ]
    },
    {
      "cell_type": "markdown",
      "metadata": {
        "id": "3gPRrPTifN91"
      },
      "source": [
        ""
      ]
    },
    {
      "cell_type": "code",
      "metadata": {
        "colab": {
          "base_uri": "https://localhost:8080/"
        },
        "id": "ZgqyEAh7Jhrx",
        "outputId": "191f2c05-1b19-41c9-c8a7-8983c9717662"
      },
      "source": [
        "def saludar( nombre , veces=5 ):\n",
        "  for x in range( veces ):\n",
        "    print(f\"Hola { nombre } \")\n",
        "\n",
        "saludar( \"Juan\" )  \n",
        "\n",
        "\n",
        "#argumento con llamada no posicionales\n",
        "\n",
        "saludar( veces=6 , nombre=\"juan\" )"
      ],
      "execution_count": null,
      "outputs": [
        {
          "output_type": "stream",
          "name": "stdout",
          "text": [
            "Hola Juan \n",
            "Hola Juan \n",
            "Hola Juan \n",
            "Hola Juan \n",
            "Hola Juan \n",
            "Hola juan \n",
            "Hola juan \n",
            "Hola juan \n",
            "Hola juan \n",
            "Hola juan \n",
            "Hola juan \n"
          ]
        }
      ]
    },
    {
      "cell_type": "markdown",
      "metadata": {
        "id": "WWkwWIh5MBnw"
      },
      "source": [
        "#Listas \n",
        "son estructuras de datos declaradas en python funcionan como los arreglos en java y C, con algunas diferencias \n",
        "\n",
        "\n",
        "* usan el selector [   ]\n",
        "* son mutables \n",
        "* puede contener valores de diferente tipo (entero, string, voolean, float)(1, manzana, true, 1.23)\n",
        "* tamnien pueden ser anidados (multidimensionales)\n",
        "* es una estructura secuencial(va de 0 a n)\n",
        "* se crean usando el operador [] y list ()\n",
        "\n"
      ]
    },
    {
      "cell_type": "code",
      "metadata": {
        "colab": {
          "base_uri": "https://localhost:8080/"
        },
        "id": "ODV3VTpvM7pZ",
        "outputId": "c3e4db22-adf6-4514-91e0-dd4b65955194"
      },
      "source": [
        "frutas = [ \"pera\" , \"lima\" , \"limon\" , \"kiwi\" , \"manzana\" ]\n",
        "print(frutas)\n",
        "print( frutas[1] )\n",
        "frutas[1] = \"mango\"\n",
        "print(frutas)\n",
        "persona = [ \"Jose\", 1.78, 19, False , 70.5 , \"ICO\"  ]\n",
        "print(persona)\n",
        "print(persona[-1])\n",
        "numeros = [2,4,6,8,10,12,14,16,18,20]\n",
        "print(numeros[4:7])\n",
        "\n"
      ],
      "execution_count": null,
      "outputs": [
        {
          "output_type": "stream",
          "name": "stdout",
          "text": [
            "['pera', 'lima', 'limon', 'kiwi', 'manzana']\n",
            "lima\n",
            "['pera', 'mango', 'limon', 'kiwi', 'manzana']\n",
            "['Jose', 1.78, 19, False, 70.5, 'ICO']\n",
            "ICO\n",
            "[10, 12, 14]\n"
          ]
        }
      ]
    },
    {
      "cell_type": "code",
      "metadata": {
        "colab": {
          "base_uri": "https://localhost:8080/"
        },
        "id": "t-f3CVfbPBK5",
        "outputId": "3af66777-457f-4ace-ab0e-9c775d8ebd2a"
      },
      "source": [
        "#Listas multidimencionales\n",
        "\n",
        "bds=[ \"mysql\" , \"Oracle\" , \"BD2\" , \"Mongo\" , \"SQLite\" ]\n",
        "leng_prog = [ \"C\" , \"Java\" , \"JS\" , \"C++\" , \"C#\" , \"Python\"]\n",
        "tecnologias = [ bds , leng_prog ]\n",
        "print(tecnologias)\n",
        "\"\"\"\n",
        "[\n",
        "  ['mysql', 'Oracle', 'BD2', 'Mongo', 'SQLite'], \n",
        "  ['C', 'Java', 'JS', 'C++', 'C#', 'Python']\n",
        "]\n",
        "\"\"\"  \n",
        "print(tecnologias[1][3])\n",
        "print(tecnologias[0][4])\n",
        "print(tecnologias[0][-1])\n",
        "print(tecnologias[1][2:5])"
      ],
      "execution_count": null,
      "outputs": [
        {
          "output_type": "stream",
          "name": "stdout",
          "text": [
            "[['mysql', 'Oracle', 'BD2', 'Mongo', 'SQLite'], ['C', 'Java', 'JS', 'C++', 'C#', 'Python']]\n",
            "C++\n",
            "SQLite\n",
            "SQLite\n",
            "['JS', 'C++', 'C#']\n"
          ]
        }
      ]
    },
    {
      "cell_type": "markdown",
      "metadata": {
        "id": "0mzqF7MZSs39"
      },
      "source": [
        "#La clase List \n",
        "el tipo de clase list en realidad es una clase que tiene metodos"
      ]
    },
    {
      "cell_type": "code",
      "metadata": {
        "colab": {
          "base_uri": "https://localhost:8080/"
        },
        "id": "-duzbk3yS4KD",
        "outputId": "74801e58-bb6f-4bb3-f801-231e42c268e6"
      },
      "source": [
        "numeros = [100,43,45,23,55,1,22,101,99,10,13]\n",
        "type( numeros )\n",
        "dir( numeros )\n",
        "print( numeros.sort() )\n",
        "print( numeros )\n",
        "numeros.reverse()\n",
        "print(numeros)\n",
        "#eliminar elemntos de un arrelo\n",
        "#dos formas\n",
        "#utilizando el metodo remove\n",
        "numeros.remove(55)\n",
        "print( numeros )\n",
        "#utilizando el operador del\n",
        "del numeros[3]\n",
        "print(numeros)\n",
        "#apend agrega elementos al final \n",
        "numeros.append(0)\n",
        "numeros.append(33)\n",
        "numeros.sort()\n",
        "numeros.reverse()\n",
        "print(numeros)\n",
        "numeros.insert(3 , 60)\n",
        "print(numeros)\n",
        "#sacar el ultio elemento con pop\n",
        "n = numeros.pop()\n",
        "print(n)\n",
        "print(numeros)\n",
        "n = numeros.pop(1)\n",
        "print(n)\n",
        "print(numeros)\n",
        "\n",
        "\n",
        "mas_numeros = [400,500,600,700]\n",
        "numeros.extend(mas_numeros)\n",
        "print(numeros)\n",
        "#numeros.clear()\n",
        "print(numeros)\n",
        "#listas y la estructura de control FOR\n",
        "for num in numeros:\n",
        "  print(f\"--> { num } <--\")\n",
        "\n"
      ],
      "execution_count": null,
      "outputs": [
        {
          "output_type": "stream",
          "name": "stdout",
          "text": [
            "None\n",
            "[1, 10, 13, 22, 23, 43, 45, 55, 99, 100, 101]\n",
            "[101, 100, 99, 55, 45, 43, 23, 22, 13, 10, 1]\n",
            "[101, 100, 99, 45, 43, 23, 22, 13, 10, 1]\n",
            "[101, 100, 99, 43, 23, 22, 13, 10, 1]\n",
            "[101, 100, 99, 43, 33, 23, 22, 13, 10, 1, 0]\n",
            "[101, 100, 99, 60, 43, 33, 23, 22, 13, 10, 1, 0]\n",
            "0\n",
            "[101, 100, 99, 60, 43, 33, 23, 22, 13, 10, 1]\n",
            "100\n",
            "[101, 99, 60, 43, 33, 23, 22, 13, 10, 1]\n",
            "[101, 99, 60, 43, 33, 23, 22, 13, 10, 1, 400, 500, 600, 700]\n",
            "[101, 99, 60, 43, 33, 23, 22, 13, 10, 1, 400, 500, 600, 700]\n",
            "--> 101 <--\n",
            "--> 99 <--\n",
            "--> 60 <--\n",
            "--> 43 <--\n",
            "--> 33 <--\n",
            "--> 23 <--\n",
            "--> 22 <--\n",
            "--> 13 <--\n",
            "--> 10 <--\n",
            "--> 1 <--\n",
            "--> 400 <--\n",
            "--> 500 <--\n",
            "--> 600 <--\n",
            "--> 700 <--\n"
          ]
        }
      ]
    },
    {
      "cell_type": "markdown",
      "metadata": {
        "id": "7FMOHp0YlOez"
      },
      "source": [
        "#TUPLAS \n",
        "Caracteristicas \n",
        "* Estructura de dato lineal.\n",
        "* Se declaran con ()\n",
        "* Son **inmutables**. es decir no se pueden cambiar sus valores\n",
        "* Usan menos espacio en memoria.\n",
        "* Son utiles para declarar valores de consulta.\n",
        "* Fuera de eso, las demas caracteristicas son las mismas\n",
        "  que las LISTAS.\n"
      ]
    },
    {
      "cell_type": "code",
      "metadata": {
        "colab": {
          "base_uri": "https://localhost:8080/"
        },
        "id": "tSxx4VJUmTOg",
        "outputId": "3bd1eb85-f86d-4d3c-9b04-d72b212b8893"
      },
      "source": [
        "datos_conexión = (\"23.234.145.23\" , \"juan\" , 'patito123' )\n",
        "print( datos_conexión[0] )\n",
        "dir(datos_conexión)"
      ],
      "execution_count": null,
      "outputs": [
        {
          "output_type": "stream",
          "name": "stdout",
          "text": [
            "23.234.145.23\n"
          ]
        },
        {
          "output_type": "execute_result",
          "data": {
            "text/plain": [
              "['__add__',\n",
              " '__class__',\n",
              " '__contains__',\n",
              " '__delattr__',\n",
              " '__dir__',\n",
              " '__doc__',\n",
              " '__eq__',\n",
              " '__format__',\n",
              " '__ge__',\n",
              " '__getattribute__',\n",
              " '__getitem__',\n",
              " '__getnewargs__',\n",
              " '__gt__',\n",
              " '__hash__',\n",
              " '__init__',\n",
              " '__init_subclass__',\n",
              " '__iter__',\n",
              " '__le__',\n",
              " '__len__',\n",
              " '__lt__',\n",
              " '__mul__',\n",
              " '__ne__',\n",
              " '__new__',\n",
              " '__reduce__',\n",
              " '__reduce_ex__',\n",
              " '__repr__',\n",
              " '__rmul__',\n",
              " '__setattr__',\n",
              " '__sizeof__',\n",
              " '__str__',\n",
              " '__subclasshook__',\n",
              " 'count',\n",
              " 'index']"
            ]
          },
          "metadata": {},
          "execution_count": 29
        }
      ]
    },
    {
      "cell_type": "markdown",
      "metadata": {
        "id": "Hxy2PdpyX9tg"
      },
      "source": [
        "#DICCIONARIOS\n",
        "* son estructura no lineal \n",
        "* formada por pares llave-valor \n",
        "{\"key\":valor}\n",
        "* donde valor puede ser de cualquier \n",
        "tipo, int, float, list, diccionario\n",
        "* No se selecciona con[]X\n",
        "* Su lector es por llaves\n",
        "* Se selecciona con corchetes cuadragos []\n",
        "* son mutables\n",
        "\n"
      ]
    },
    {
      "cell_type": "code",
      "metadata": {
        "colab": {
          "base_uri": "https://localhost:8080/"
        },
        "id": "SvGXwSeYYuDx",
        "outputId": "def83914-b8cd-4797-ccdc-9c11cd343087"
      },
      "source": [
        "persona = { \"nombre\" : \"Jose\" , \"edad\" : 19 , \"estatura\" : 1.7 }\n",
        "print(persona)\n",
        "print(f\"La estatura es: { persona['estatura']} metros\")\n",
        "estudiante = {\n",
        "\"nombre\" : { \"nombres\" : [\"Juan\", \"Jose\"] ,\n",
        "\"paterno\" : \"Pérez\" , \n",
        "\"materno\" : \" Garcia\"\n",
        "} ,\n",
        "\"edad\" : 19 ,\n",
        "\"estatura\" : 1.7,\n",
        "\"carrera\" : {\n",
        "\"escuala\" : \"UNAM FES Aragón\",\n",
        "\"Carrera\" : \"ICO\",\n",
        "\"semestre\" : 2\n",
        "},\n",
        "\"direccion\" : {\n",
        "\"calle\" : \"Colorines\",\n",
        "\"num_exterior\" : 34,\n",
        "\"interior\" : \"apartmento B\"\n",
        "},\n",
        "\"telefonos\" : {\n",
        "\"casa\" : 556463663,\n",
        "\"calular\" : [\"+5255767664\" , \"+52557373773\"]\n",
        "}\n",
        "\n",
        "}\n",
        "\n",
        "print(estudiante['direccion']['calle'])\n",
        "print(f\"La estatura es : {estudiante['estatura']}\")\n",
        "estudiante['direccion']['calle'] = 'pancho lopez'\n",
        "print(estudiante['direccion'])\n",
        "estudiante['direccion']['colonia'] = 'Impulsora'\n",
        "print(estudiante['direccion'])\n",
        "#Conbinar con la invocacion de métodos de los valores\n",
        "#Mostrar el nombre del estudiante en mayusculas \n",
        "print(estudiante['nombre']['nombres'][0].upper(), estudiante['nombre']['nombres'][1].upper())\n",
        "\n",
        "#keys\n",
        "llaves = estudiante.keys()\n",
        "print( llaves )\n",
        "print(\"----------------------------\")\n",
        "for llave in llaves:\n",
        "  print(llave)\n",
        "  print(estudiante[llave])\n",
        "\n",
        "#values() regresa los valores\n",
        "\n",
        "vals = estudiante.values()\n",
        "for val in vals:\n",
        "  print(val)\n",
        "\n",
        "\n",
        "\n",
        "print(\"------ items ------\")\n",
        "elems = estudiante.items()\n",
        "print(elems)\n",
        "\n",
        "for par in elems:\n",
        "  print(par)\n",
        "  print(par[0])\n",
        "\n",
        "#FIN AL INTRO DE DICCIONARIOS\n",
        "  \n",
        "\n"
      ],
      "execution_count": null,
      "outputs": [
        {
          "output_type": "stream",
          "name": "stdout",
          "text": [
            "{'nombre': 'Jose', 'edad': 19, 'estatura': 1.7}\n",
            "La estatura es: 1.7 metros\n",
            "Colorines\n",
            "La estatura es : 1.7\n",
            "{'calle': 'pancho lopez', 'num_exterior': 34, 'interior': 'apartmento B'}\n",
            "{'calle': 'pancho lopez', 'num_exterior': 34, 'interior': 'apartmento B', 'colonia': 'Impulsora'}\n",
            "JUAN JOSE\n",
            "dict_keys(['nombre', 'edad', 'estatura', 'carrera', 'direccion', 'telefonos'])\n",
            "----------------------------\n",
            "nombre\n",
            "{'nombres': ['Juan', 'Jose'], 'paterno': 'Pérez', 'materno': ' Garcia'}\n",
            "edad\n",
            "19\n",
            "estatura\n",
            "1.7\n",
            "carrera\n",
            "{'escuala': 'UNAM FES Aragón', 'Carrera': 'ICO', 'semestre': 2}\n",
            "direccion\n",
            "{'calle': 'pancho lopez', 'num_exterior': 34, 'interior': 'apartmento B', 'colonia': 'Impulsora'}\n",
            "telefonos\n",
            "{'casa': 556463663, 'calular': ['+5255767664', '+52557373773']}\n",
            "{'nombres': ['Juan', 'Jose'], 'paterno': 'Pérez', 'materno': ' Garcia'}\n",
            "19\n",
            "1.7\n",
            "{'escuala': 'UNAM FES Aragón', 'Carrera': 'ICO', 'semestre': 2}\n",
            "{'calle': 'pancho lopez', 'num_exterior': 34, 'interior': 'apartmento B', 'colonia': 'Impulsora'}\n",
            "{'casa': 556463663, 'calular': ['+5255767664', '+52557373773']}\n",
            "------ items ------\n",
            "dict_items([('nombre', {'nombres': ['Juan', 'Jose'], 'paterno': 'Pérez', 'materno': ' Garcia'}), ('edad', 19), ('estatura', 1.7), ('carrera', {'escuala': 'UNAM FES Aragón', 'Carrera': 'ICO', 'semestre': 2}), ('direccion', {'calle': 'pancho lopez', 'num_exterior': 34, 'interior': 'apartmento B', 'colonia': 'Impulsora'}), ('telefonos', {'casa': 556463663, 'calular': ['+5255767664', '+52557373773']})])\n",
            "('nombre', {'nombres': ['Juan', 'Jose'], 'paterno': 'Pérez', 'materno': ' Garcia'})\n",
            "nombre\n",
            "('edad', 19)\n",
            "edad\n",
            "('estatura', 1.7)\n",
            "estatura\n",
            "('carrera', {'escuala': 'UNAM FES Aragón', 'Carrera': 'ICO', 'semestre': 2})\n",
            "carrera\n",
            "('direccion', {'calle': 'pancho lopez', 'num_exterior': 34, 'interior': 'apartmento B', 'colonia': 'Impulsora'})\n",
            "direccion\n",
            "('telefonos', {'casa': 556463663, 'calular': ['+5255767664', '+52557373773']})\n",
            "telefonos\n"
          ]
        }
      ]
    },
    {
      "cell_type": "code",
      "metadata": {
        "colab": {
          "base_uri": "https://localhost:8080/"
        },
        "id": "yZKP_4Krh2aZ",
        "outputId": "68810b26-eab4-4d2d-fb56-15756dff798c"
      },
      "source": [
        "dir(estudiante)\n",
        "help(estudiante)"
      ],
      "execution_count": null,
      "outputs": [
        {
          "output_type": "stream",
          "name": "stdout",
          "text": [
            "Help on dict object:\n",
            "\n",
            "class dict(object)\n",
            " |  dict() -> new empty dictionary\n",
            " |  dict(mapping) -> new dictionary initialized from a mapping object's\n",
            " |      (key, value) pairs\n",
            " |  dict(iterable) -> new dictionary initialized as if via:\n",
            " |      d = {}\n",
            " |      for k, v in iterable:\n",
            " |          d[k] = v\n",
            " |  dict(**kwargs) -> new dictionary initialized with the name=value pairs\n",
            " |      in the keyword argument list.  For example:  dict(one=1, two=2)\n",
            " |  \n",
            " |  Methods defined here:\n",
            " |  \n",
            " |  __contains__(self, key, /)\n",
            " |      True if the dictionary has the specified key, else False.\n",
            " |  \n",
            " |  __delitem__(self, key, /)\n",
            " |      Delete self[key].\n",
            " |  \n",
            " |  __eq__(self, value, /)\n",
            " |      Return self==value.\n",
            " |  \n",
            " |  __ge__(self, value, /)\n",
            " |      Return self>=value.\n",
            " |  \n",
            " |  __getattribute__(self, name, /)\n",
            " |      Return getattr(self, name).\n",
            " |  \n",
            " |  __getitem__(...)\n",
            " |      x.__getitem__(y) <==> x[y]\n",
            " |  \n",
            " |  __gt__(self, value, /)\n",
            " |      Return self>value.\n",
            " |  \n",
            " |  __init__(self, /, *args, **kwargs)\n",
            " |      Initialize self.  See help(type(self)) for accurate signature.\n",
            " |  \n",
            " |  __iter__(self, /)\n",
            " |      Implement iter(self).\n",
            " |  \n",
            " |  __le__(self, value, /)\n",
            " |      Return self<=value.\n",
            " |  \n",
            " |  __len__(self, /)\n",
            " |      Return len(self).\n",
            " |  \n",
            " |  __lt__(self, value, /)\n",
            " |      Return self<value.\n",
            " |  \n",
            " |  __ne__(self, value, /)\n",
            " |      Return self!=value.\n",
            " |  \n",
            " |  __repr__(self, /)\n",
            " |      Return repr(self).\n",
            " |  \n",
            " |  __setitem__(self, key, value, /)\n",
            " |      Set self[key] to value.\n",
            " |  \n",
            " |  __sizeof__(...)\n",
            " |      D.__sizeof__() -> size of D in memory, in bytes\n",
            " |  \n",
            " |  clear(...)\n",
            " |      D.clear() -> None.  Remove all items from D.\n",
            " |  \n",
            " |  copy(...)\n",
            " |      D.copy() -> a shallow copy of D\n",
            " |  \n",
            " |  get(self, key, default=None, /)\n",
            " |      Return the value for key if key is in the dictionary, else default.\n",
            " |  \n",
            " |  items(...)\n",
            " |      D.items() -> a set-like object providing a view on D's items\n",
            " |  \n",
            " |  keys(...)\n",
            " |      D.keys() -> a set-like object providing a view on D's keys\n",
            " |  \n",
            " |  pop(...)\n",
            " |      D.pop(k[,d]) -> v, remove specified key and return the corresponding value.\n",
            " |      If key is not found, d is returned if given, otherwise KeyError is raised\n",
            " |  \n",
            " |  popitem(...)\n",
            " |      D.popitem() -> (k, v), remove and return some (key, value) pair as a\n",
            " |      2-tuple; but raise KeyError if D is empty.\n",
            " |  \n",
            " |  setdefault(self, key, default=None, /)\n",
            " |      Insert key with a value of default if key is not in the dictionary.\n",
            " |      \n",
            " |      Return the value for key if key is in the dictionary, else default.\n",
            " |  \n",
            " |  update(...)\n",
            " |      D.update([E, ]**F) -> None.  Update D from dict/iterable E and F.\n",
            " |      If E is present and has a .keys() method, then does:  for k in E: D[k] = E[k]\n",
            " |      If E is present and lacks a .keys() method, then does:  for k, v in E: D[k] = v\n",
            " |      In either case, this is followed by: for k in F:  D[k] = F[k]\n",
            " |  \n",
            " |  values(...)\n",
            " |      D.values() -> an object providing a view on D's values\n",
            " |  \n",
            " |  ----------------------------------------------------------------------\n",
            " |  Class methods defined here:\n",
            " |  \n",
            " |  fromkeys(iterable, value=None, /) from builtins.type\n",
            " |      Create a new dictionary with keys from iterable and values set to value.\n",
            " |  \n",
            " |  ----------------------------------------------------------------------\n",
            " |  Static methods defined here:\n",
            " |  \n",
            " |  __new__(*args, **kwargs) from builtins.type\n",
            " |      Create and return a new object.  See help(type) for accurate signature.\n",
            " |  \n",
            " |  ----------------------------------------------------------------------\n",
            " |  Data and other attributes defined here:\n",
            " |  \n",
            " |  __hash__ = None\n",
            "\n"
          ]
        }
      ]
    },
    {
      "cell_type": "markdown",
      "metadata": {
        "id": "OSLYfnmGo5pe"
      },
      "source": [
        "#Funciones segunda parte(El reencuentro)\n",
        "\n",
        "### Declarar funciones combinandola con **Tuplas**\n",
        "Se puede recibir una lista de argumentos dinamica que se almacenará en una tupla. Para ello se utiliza un operador especial que es '*' en la declaración de la función.\n"
      ]
    },
    {
      "cell_type": "code",
      "metadata": {
        "colab": {
          "base_uri": "https://localhost:8080/"
        },
        "id": "Sw7Tn_0yp45S",
        "outputId": "6082d128-655d-4d39-ffea-0838b4d7e009"
      },
      "source": [
        "def mi_funcion( *argumentos):\n",
        "  print(argumentos)\n",
        "\n",
        "mi_funcion(1,2,3, \"Hola\" , 3.1416)\n",
        "\n",
        "# Suma version 2\n",
        "\n",
        "def suma_v2( *vals ):\n",
        "  suma = 0\n",
        "  for valor in vals:\n",
        "    suma += valor\n",
        "    print(suma)\n",
        "\n",
        "suma_v2(5,4 ,2,3,4,5,5,6,6,6,6,6,6)\n"
      ],
      "execution_count": null,
      "outputs": [
        {
          "output_type": "stream",
          "name": "stdout",
          "text": [
            "(1, 2, 3, 'Hola', 3.1416)\n",
            "5\n",
            "9\n",
            "11\n",
            "14\n",
            "18\n",
            "23\n",
            "28\n",
            "34\n",
            "40\n",
            "46\n",
            "52\n",
            "58\n",
            "64\n"
          ]
        }
      ]
    },
    {
      "cell_type": "markdown",
      "metadata": {
        "id": "1dU5gLjtseQ9"
      },
      "source": [
        "### Declarar funciones declaransolas con **diccionarios**\n",
        "`\n",
        "def mi_funcion( **argumentos ): \n",
        "print(argumentos) \n",
        "#argumentos es un diccionario\n",
        "`"
      ]
    },
    {
      "cell_type": "code",
      "metadata": {
        "colab": {
          "base_uri": "https://localhost:8080/"
        },
        "id": "RFpLIuvftTFM",
        "outputId": "2b09aea7-99b4-4d50-9821-0b38ed54e3e2"
      },
      "source": [
        "def mi_funcion( **argumentos ):\n",
        "  print(argumentos)\n",
        "\n",
        "mi_funcion( nombre=\"Jose\" , edad=19 )  "
      ],
      "execution_count": null,
      "outputs": [
        {
          "output_type": "stream",
          "name": "stdout",
          "text": [
            "{'nombre': 'Jose', 'edad': 19}\n"
          ]
        }
      ]
    },
    {
      "cell_type": "markdown",
      "metadata": {
        "id": "N5ejg9GOuARp"
      },
      "source": [
        "#Tarea\n",
        "Hacer un programa que permita levantar la comanda de un restaurante, de la forma:\n",
        "`\n",
        "menu_select(mesa=3,comesal1=2,enytrada=\"Ensalada verde\" , medio=crema de zanahoria\", fuerte=\"filete\"\n",
        "adicionales=\"Filete termino medio , la ensalada sun ningun tipo de semilla, Adereso Ranch\")\n",
        "\n",
        "`\n",
        "\n",
        "\n",
        "\n",
        "\n",
        "\n",
        "Hacer una funcion que reciba una ecuacion y que la resuelva la del chicharronero\n"
      ]
    },
    {
      "cell_type": "markdown",
      "metadata": {
        "id": "GRzJwAnnKheu"
      },
      "source": [
        "#Modulos\n",
        "Un modulo que es equivalente a un oackage en java i un archivo .H en lenguaje C.\n",
        "En él, declaras código que quieras llamar varias veces, este código de principalmente funciones."
      ]
    },
    {
      "cell_type": "code",
      "metadata": {
        "colab": {
          "base_uri": "https://localhost:8080/"
        },
        "id": "dEXUoQIlMJrZ",
        "outputId": "79295596-a9cf-46e0-89cb-f4e9268d2986"
      },
      "source": [
        "import mimodulo\n",
        "\n",
        "mimodulo.mi_suma(3,4)\n",
        "mimodulo.mi_print(\"Hola k ase\")"
      ],
      "execution_count": null,
      "outputs": [
        {
          "output_type": "stream",
          "name": "stdout",
          "text": [
            "Haciendo una suma\n",
            "La suma de 3 + 4 = 7\n",
            "HOLA K ASE\n"
          ]
        }
      ]
    },
    {
      "cell_type": "code",
      "metadata": {
        "colab": {
          "base_uri": "https://localhost:8080/"
        },
        "id": "mLDiiEdNQ4Bk",
        "outputId": "6c9684af-773a-4029-fbb4-ac33272da02d"
      },
      "source": [
        "from mimodulo import mi_print\n",
        "mi_print(\"Hola de nuevo mi chavo\")\n",
        "mi_print(\"Hola Kase\")"
      ],
      "execution_count": null,
      "outputs": [
        {
          "output_type": "stream",
          "name": "stdout",
          "text": [
            "HOLA DE NUEVO MI CHAVO\n",
            "HOLA KASE\n"
          ]
        }
      ]
    },
    {
      "cell_type": "code",
      "metadata": {
        "colab": {
          "base_uri": "https://localhost:8080/"
        },
        "id": "0x2aw3NVSFVY",
        "outputId": "08133778-7977-43a3-88cc-a74c9c56ec9d"
      },
      "source": [
        "import sys\n",
        "#dir(sys)\n",
        "print( sys.path )\n"
      ],
      "execution_count": null,
      "outputs": [
        {
          "output_type": "stream",
          "name": "stdout",
          "text": [
            "['', '/content', '/env/python', '/usr/lib/python37.zip', '/usr/lib/python3.7', '/usr/lib/python3.7/lib-dynload', '/usr/local/lib/python3.7/dist-packages', '/usr/lib/python3/dist-packages', '/usr/local/lib/python3.7/dist-packages/IPython/extensions', '/root/.ipython']\n"
          ]
        }
      ]
    },
    {
      "cell_type": "code",
      "metadata": {
        "colab": {
          "base_uri": "https://localhost:8080/"
        },
        "id": "fkeAc3B8T17L",
        "outputId": "d5a51b14-0dc9-46ec-fcd5-a5ed70fb200a"
      },
      "source": [
        "!pip install simple-chalk"
      ],
      "execution_count": null,
      "outputs": [
        {
          "output_type": "stream",
          "name": "stdout",
          "text": [
            "Collecting simple-chalk\n",
            "  Downloading simple_chalk-0.1.0.tar.gz (13 kB)\n",
            "Building wheels for collected packages: simple-chalk\n",
            "  Building wheel for simple-chalk (setup.py) ... \u001b[?25l\u001b[?25hdone\n",
            "  Created wheel for simple-chalk: filename=simple_chalk-0.1.0-py3-none-any.whl size=22163 sha256=4b45c74aa1951f75ce204546847e65207e6c16df4d872bf9567e636f36393e03\n",
            "  Stored in directory: /root/.cache/pip/wheels/24/e2/84/d54838032016039eef79df1137b91defaa6db068d825dfcdcd\n",
            "Successfully built simple-chalk\n",
            "Installing collected packages: simple-chalk\n",
            "Successfully installed simple-chalk-0.1.0\n"
          ]
        }
      ]
    },
    {
      "cell_type": "code",
      "metadata": {
        "colab": {
          "base_uri": "https://localhost:8080/"
        },
        "id": "zyqx1IPBUXHy",
        "outputId": "87f70967-0bb0-456e-e402-b6f77c20e4c5"
      },
      "source": [
        "from simple_chalk import *\n",
        "print(chalk.blue(\"Texto en azul\"))\n",
        "whyNot = green.bgWhite.gray.bgBlack\n",
        "print(whyNot(\"this is red text with a gray background\"))\n",
        "verde_sobre_negro = green.bgBlack\n",
        "print(verde_sobre_negro(\"test\"))"
      ],
      "execution_count": null,
      "outputs": [
        {
          "output_type": "stream",
          "name": "stdout",
          "text": [
            "\u001b[34mTexto en azul\u001b[0m\n",
            "\u001b[90;40mthis is red text with a gray background\u001b[0m\n",
            "\u001b[32;40mtest\u001b[0m\n"
          ]
        }
      ]
    },
    {
      "cell_type": "markdown",
      "metadata": {
        "id": "69wsFtvoXMU8"
      },
      "source": [
        "# Archivos\n",
        "Para abrir un archivo s utiliza la funcion open ('nombre' , 'AB')\n",
        "nombre = La ruta del archivo\n",
        "A = modo de apertura ( W, r,a, .....)\n",
        "B = formato t(texto) o b(binario)\n",
        "Para leer tenemos las funciones: \n",
        "- read()\n",
        "- readline()\n",
        "- readlines()"
      ]
    },
    {
      "cell_type": "code",
      "metadata": {
        "colab": {
          "base_uri": "https://localhost:8080/"
        },
        "id": "8FGL_4kHY1os",
        "outputId": "0de0f558-989d-4889-c278-ffafea52d9ce"
      },
      "source": [
        "!cat datos.dat"
      ],
      "execution_count": null,
      "outputs": [
        {
          "output_type": "stream",
          "name": "stdout",
          "text": [
            "1,2,3,4,5,6,7\n",
            "8,9,10\n",
            "11,12\n",
            "13"
          ]
        }
      ]
    },
    {
      "cell_type": "code",
      "metadata": {
        "colab": {
          "base_uri": "https://localhost:8080/"
        },
        "id": "jw5WZJNoYSQa",
        "outputId": "dbd45674-f786-4c98-cc6d-7a22f303a3ea"
      },
      "source": [
        "\"\"\"\n",
        "1,2,3,4,5,6,7\n",
        "8,9,10\n",
        "11,12\n",
        "13\n",
        "\"\"\"\n",
        "archivo = open('datos.dat' , 'rt')\n",
        "info = archivo.read()\n",
        "print( info )\n",
        "\n",
        "#readline()\n",
        "print(\"------readline------\")\n",
        "archivo = open('datos.dat', 'rt' )\n",
        "info = archivo.readline()\n",
        "print( info )\n",
        "info = archivo.readline()\n",
        "print( info )\n",
        "\n",
        "#readlines\n",
        "print(\"--------readlines--------\")\n",
        "archivo = open('datos.dat' , 'rt')\n",
        "info = archivo.readlines()\n",
        "print( info )\n",
        "for index in range(len(info)):\n",
        "  info[index] = info[index].strip()\n",
        "print(info)  \n",
        "numeros = []\n",
        "\n",
        "for grupo in info:\n",
        "  for numero in grupo.split(','):\n",
        "    numeros.append( int(numero))\n",
        "print(numeros)\n",
        "suma = 0\n",
        "for num in numeros:\n",
        "  suma += num\n",
        "print( suma )  "
      ],
      "execution_count": null,
      "outputs": [
        {
          "output_type": "stream",
          "name": "stdout",
          "text": [
            "1,2,3,4,5,6,7\n",
            "8,9,10\n",
            "11,12\n",
            "13\n",
            "------readline------\n",
            "1,2,3,4,5,6,7\n",
            "\n",
            "8,9,10\n",
            "\n",
            "--------readlines--------\n",
            "['1,2,3,4,5,6,7\\n', '8,9,10\\n', '11,12\\n', '13']\n",
            "['1,2,3,4,5,6,7', '8,9,10', '11,12', '13']\n",
            "[1, 2, 3, 4, 5, 6, 7, 8, 9, 10, 11, 12, 13]\n",
            "91\n"
          ]
        }
      ]
    },
    {
      "cell_type": "markdown",
      "metadata": {
        "id": "9S1w-ENXfQMR"
      },
      "source": [
        "#POO CON PYTHON \n",
        "La POO es un paradijma no soportado originalmente por Python, Python maneja el paradigma imperativo.\n",
        "\n",
        "Python simula la POO con la declaracion de clases y haciendo referencia a un objeto de forma circular. self es python es equivalente en this en java\n",
        "\n",
        "class <Nombre de la clase>:\n",
        "      <definicion de la clase>\n",
        "class <nombre de la clase>(<Super clase>):\n",
        "      <Definicion del cuerpo de la clase>\n",
        "\n",
        "\n",
        "El constructor se define siemore con el método __init__()\n",
        "(DOBLE GUION BAJO ANTES Y DESPUES DEL init)\n",
        "\n",
        "La declaración de atributos se realiza por medio de el propio constructor.\n",
        "\n",
        "Para hacer encapsulamiento de metodos o atributos se debe poner \n",
        "__(DOBLE GUION BAJO) previo a la declaración del atributo o método.\n",
        "\n",
        "\n"
      ]
    },
    {
      "cell_type": "code",
      "metadata": {
        "id": "lZyE560CgnoU"
      },
      "source": [
        "class Persona:\n",
        "  def __init__ ( self , n , e , est ):\n",
        "    self.__nombre = n\n",
        "    self.__edad = e\n",
        "    self.__estatura = est\n",
        "\n",
        "  def to_string( self ):\n",
        "    return \"Nombre: \" + self.__nombre +\" Edad: \"+ str(self.__edad) + \"Estatura\" + str(self.__estatura)\n",
        "\n",
        "  def set_estatura( self , nueva_est):\n",
        "    if nueva_est > 0.10 and nueva_est < 2.5 :\n",
        "      self.__estatura = nueva_est\n",
        "    else:\n",
        "        print(\"Error: Esa estatura no es posible\")\n",
        "\n",
        "  def get_estatura( self ):\n",
        "    return self.__estatura      \n",
        "  \n"
      ],
      "execution_count": 27,
      "outputs": []
    },
    {
      "cell_type": "code",
      "metadata": {
        "colab": {
          "base_uri": "https://localhost:8080/"
        },
        "id": "gPQIJMT8iwT9",
        "outputId": "18d46d02-9221-4e19-9cf8-43ce8db91df1"
      },
      "source": [
        "per = Persona(\"Jose\", 18, 1.70)\n",
        "print(per.to_string())\n",
        "\n",
        "#Encapsulamiento\n",
        "\n",
        "per.nombre = \"Pedro\"\n",
        "print(per.to_string())\n",
        "\n",
        "#per.estatura = 3.9\n",
        "per.set_estatura(3.9)\n",
        "print(per.to_string())\n",
        "\n",
        "print(\"Estatura:\" , end=\"\")\n",
        "#print( per.__estatura )\n",
        "print( per.get_estatura() )"
      ],
      "execution_count": 31,
      "outputs": [
        {
          "output_type": "stream",
          "name": "stdout",
          "text": [
            "Nombre: Jose Edad: 18Estatura1.7\n",
            "Nombre: Jose Edad: 18Estatura1.7\n",
            "Error: Esa estatura no es posible\n",
            "Nombre: Jose Edad: 18Estatura1.7\n",
            "Estatura:1.7\n"
          ]
        }
      ]
    },
    {
      "cell_type": "code",
      "metadata": {
        "id": "9ToPZ4G_qsS7"
      },
      "source": [
        "class Estudiante( Persona ):\n",
        "  def __init__( self ,nc , nombre , edad , est):\n",
        "    self.__num__cta = nc\n",
        "    super().__init__(nombre,edad,est)\n",
        "\n",
        "  def to_string( self ):\n",
        "    return super().to_string() + \"Numero de cta:\" + self.__num__cta "
      ],
      "execution_count": 45,
      "outputs": []
    },
    {
      "cell_type": "code",
      "metadata": {
        "colab": {
          "base_uri": "https://localhost:8080/"
        },
        "id": "FA7biKYxrI0w",
        "outputId": "14a8d1c2-a11e-4170-c638-0c56833a7624"
      },
      "source": [
        "est = Estudiante( \"212020202\",\"Jose\",18,1.7)\n",
        "print( est.to_string() )"
      ],
      "execution_count": 46,
      "outputs": [
        {
          "output_type": "stream",
          "name": "stdout",
          "text": [
            "Nombre: Jose Edad: 18Estatura1.7Numero de cta:212020202\n"
          ]
        }
      ]
    }
  ]
}