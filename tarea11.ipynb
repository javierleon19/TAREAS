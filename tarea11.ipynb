{
  "nbformat": 4,
  "nbformat_minor": 0,
  "metadata": {
    "colab": {
      "name": "tarea11.ipynb",
      "provenance": [],
      "authorship_tag": "ABX9TyOtWdSpV4kScO1GmZCQ70Dp",
      "include_colab_link": true
    },
    "kernelspec": {
      "name": "python3",
      "display_name": "Python 3"
    },
    "language_info": {
      "name": "python"
    }
  },
  "cells": [
    {
      "cell_type": "markdown",
      "metadata": {
        "id": "view-in-github",
        "colab_type": "text"
      },
      "source": [
        "<a href=\"https://colab.research.google.com/github/javierleon19/TAREAS/blob/main/tarea11.ipynb\" target=\"_parent\"><img src=\"https://colab.research.google.com/assets/colab-badge.svg\" alt=\"Open In Colab\"/></a>"
      ]
    },
    {
      "cell_type": "code",
      "execution_count": 1,
      "metadata": {
        "id": "S2KRcovBlGqm"
      },
      "outputs": [],
      "source": [
        "class NodoBinario:\n",
        "  def __init__(self, value, left = None , right = None):\n",
        "    self.data = value\n",
        "    self.left = left\n",
        "    self.right = right\n",
        "\n",
        "\n",
        "class NodoTernario:\n",
        "    def __init__(self, value, left = None ,center = None, right = None):\n",
        "      self.data = value\n",
        "      self.left = left\n",
        "      self.center = center\n",
        "      self.right = right"
      ]
    },
    {
      "cell_type": "code",
      "source": [
        "arbol1= NodoBinario(\"R\",NodoBinario(\"C\"),NodoBinario(\"H\"))\n",
        "print(arbol1.right.data)\n",
        "\n",
        "arbol2 = NodoTernario(4,NodoTernario(3,NodoTernario(5,left=NodoTernario(2)),NodoTernario(5),NodoTernario(2)), None , NodoTernario(5))\n",
        "print(arbol2.left.right.data)\n",
        "print(arbol2.data)\n",
        "print(arbol2.left.center.data)\n",
        "print(arbol2.right.left)\n",
        "print(arbol2.left.left.left.data)\n",
        "print(\"---------imprimir el mismo sin usar la palabra left en el print------------\")\n",
        "aux = arbol2\n",
        "while (aux.left != None):\n",
        "  aux = aux.left\n",
        "print(aux.data)"
      ],
      "metadata": {
        "colab": {
          "base_uri": "https://localhost:8080/"
        },
        "id": "m56x295TlNOR",
        "outputId": "7760c16c-dfe8-4924-a92d-e2e911d07590"
      },
      "execution_count": 2,
      "outputs": [
        {
          "output_type": "stream",
          "name": "stdout",
          "text": [
            "H\n",
            "2\n",
            "4\n",
            "5\n",
            "None\n",
            "2\n",
            "---------imprimir el mismo sin usar la palabra left en el print------------\n",
            "2\n"
          ]
        }
      ]
    },
    {
      "cell_type": "code",
      "source": [
        "root = NodoBinario(\"Santi\",None,NodoBinario(\"Jesus\",NodoBinario(\"Pedro\",None,NodoBinario(\"Pedro jr\"))))\n",
        "print(root.right.left.right.data)"
      ],
      "metadata": {
        "colab": {
          "base_uri": "https://localhost:8080/"
        },
        "id": "2rGsfFfrlUCi",
        "outputId": "a8829079-30e7-487a-cd2a-642430cc56bc"
      },
      "execution_count": 4,
      "outputs": [
        {
          "output_type": "stream",
          "name": "stdout",
          "text": [
            "Pedro jr\n"
          ]
        }
      ]
    },
    {
      "cell_type": "code",
      "source": [
        "class BinaryNode:\n",
        "  def __init__(self, value, left = None , right = None):\n",
        "    self.data = value\n",
        "    self.left = left\n",
        "    self.right = right\n",
        "\n",
        "class BinarySearchTree:\n",
        "  def __init__(self):\n",
        "    self.root = None\n",
        "\n",
        "  def insert (self,value):\n",
        "    if self.root == None:\n",
        "      self.root = BinaryNode(value)\n",
        "    else:\n",
        "      self.__insert_nodo(self.root,value)\n",
        "      \n",
        "\n",
        "\n",
        "  def __insert_nodo(self,nodo,value):\n",
        "    if nodo.data == value:\n",
        "      pass\n",
        "    elif value < nodo.data: #ir a la izquierda\n",
        "      if nodo.left == None:\n",
        "        nodo.left = BinaryNode(value)\n",
        "      else:\n",
        "        self.__insert_nodo(nodo.left,value)\n",
        "    else: # ir a la derecha\n",
        "      if nodo.right == None:\n",
        "        nodo.right = BinaryNode(value)\n",
        "      else:\n",
        "        self.__insert_nodo(nodo.right,value)\n",
        "\n",
        "  def transversal(self,formato = \"posorden\"):\n",
        "    if formato == \"posorden\":\n",
        "      self.recorrido_pos(self.root)\n",
        "    elif formato == \"preorden\":\n",
        "      self.recorrido_pre(self.root)\n",
        "    else: #inorden\n",
        "      self.recorrido_in(self.root)\n",
        "    print()\n",
        "  def recorrido_pos(self,nodo):\n",
        "    if nodo != None:\n",
        "      self.recorrido_pos(nodo.left)\n",
        "      self.recorrido_pos(nodo.right)\n",
        "      print(str(nodo.data),end =\",\")\n",
        "\n",
        "  def recorrido_pre(self,nodo):\n",
        "    if nodo != None:\n",
        "      print(str(nodo.data),end =\",\")\n",
        "      self.recorrido_pre(nodo.left)\n",
        "      self.recorrido_pre(nodo.right)\n",
        "\n",
        "  def recorrido_in(self,nodo):\n",
        "    if nodo != None:\n",
        "      self.recorrido_in(nodo.left)\n",
        "      print(str(nodo.data),end =\",\")\n",
        "      self.recorrido_in(nodo.right)\n",
        "\n",
        "  def search(self,value):\n",
        "    if self.root == None:\n",
        "      print(\"El árbol esta vacío\")\n",
        "      return None\n",
        "    else:\n",
        "      self.__search(self.root,value)\n",
        "  \n",
        "  def __search(self, nodo, value):\n",
        "    if nodo.data == None:\n",
        "      print(\"El dato no existe en el árbol\")\n",
        "      return None\n",
        "    elif nodo.data == value:\n",
        "      print(\"Encontrado\")\n",
        "      return nodo\n",
        "    elif value < nodo.data:\n",
        "      return self.__buscar(nodo.left,value)\n",
        "    else:\n",
        "      return self.__buscar(nodo.right,value)"
      ],
      "metadata": {
        "id": "NxU7fTkxldMJ"
      },
      "execution_count": 5,
      "outputs": []
    },
    {
      "cell_type": "code",
      "source": [
        "arb1 = BinarySearchTree()\n",
        "arb1.insert(60)\n",
        "arb1.insert(30)\n",
        "arb1.insert(15)\n",
        "arb1.insert(40)\n",
        "arb1.transversal()\n",
        "arb1.transversal(\"preorden\")\n",
        "arb1.transversal(\"inorden\")"
      ],
      "metadata": {
        "colab": {
          "base_uri": "https://localhost:8080/"
        },
        "id": "7Yf_HxqFleNl",
        "outputId": "6ced304a-8cf0-4f98-ecdb-e927703c9a75"
      },
      "execution_count": 6,
      "outputs": [
        {
          "output_type": "stream",
          "name": "stdout",
          "text": [
            "15,40,30,60,\n",
            "60,30,15,40,\n",
            "15,30,40,60,\n"
          ]
        }
      ]
    },
    {
      "cell_type": "code",
      "source": [
        "class BinaryNode:\n",
        "    def __init__( self , value , left=None , rigth= None ):\n",
        "        self.data = value\n",
        "        self.left = left\n",
        "        self.rigth = rigth\n",
        " \n",
        "class BinarySearchTree:\n",
        "    def __init__( self ):\n",
        "        self.root = None\n",
        "    \n",
        "    def insert( self , value ):\n",
        "        if self.root == None:\n",
        "            self.root = BinaryNode( value )\n",
        "        else:\n",
        "            self.__insert_nodo( self.root , value )\n",
        "        \n",
        "    def __insert_nodo(self , nodo , value ):\n",
        "        if nodo.data == value: \n",
        "            pass\n",
        "        elif value < nodo.data:# ir a la izq\n",
        "            if nodo.left == None:\n",
        "                nodo.left = BinaryNode( value )\n",
        "            else:\n",
        "                self.__insert_nodo( nodo.left , value )\n",
        "        else:  # ir a la derecha\n",
        "            if nodo.rigth == None:\n",
        "                nodo.rigth = BinaryNode( value )\n",
        "            else:\n",
        "                self.__insert_nodo( nodo.rigth , value )\n",
        "    \n",
        "    def transversal( self , formato = \"posorden\"):\n",
        "        if formato == \"posorden\":\n",
        "            self.recorrido_pos( self.root )\n",
        "        elif formato == \"preorden\":\n",
        "            self.recorrido_pre(self.root )\n",
        "        else: # inorden\n",
        "            self.recorrido_in( self.root )\n",
        "        print()\n",
        " \n",
        "    def  recorrido_pos( self , nodo ):\n",
        "        if nodo != None:\n",
        "            self.recorrido_pos( nodo.left )\n",
        "            self.recorrido_pos( nodo.rigth )\n",
        "            print( str(nodo.data) , end=\" , \" )\n",
        "    \n",
        "    def  recorrido_pre( self , nodo ):\n",
        "        if nodo != None:\n",
        "            print( str(nodo.data) , end=\" , \" )\n",
        "            self.recorrido_pre( nodo.left )\n",
        "            self.recorrido_pre( nodo.rigth )\n",
        "    \n",
        "    def  recorrido_in( self , nodo ):\n",
        "        if nodo != None:\n",
        "            self.recorrido_in( nodo.left )\n",
        "            print( str(nodo.data) , end=\" , \" )\n",
        "            self.recorrido_in( nodo.rigth ) \n",
        " \n",
        "    def search( self , value ):\n",
        "        if self.root == None:\n",
        "            print(\"El árbol está vacío\")\n",
        "            return None\n",
        "        else:\n",
        "            return self.__search( self.root , value )\n",
        " \n",
        "    def __search( self , nodo , value ):\n",
        "        if nodo == None:\n",
        "            print(\"El dato no existe en el árbol\") \n",
        "            return None\n",
        "        elif nodo.data == value:\n",
        "            print(\"Encontrado\", nodo.data)\n",
        "            return nodo\n",
        "        elif value < nodo.data:\n",
        "            return self.__search( nodo.left , value  )\n",
        "        else:\n",
        "            return self.__search( nodo.rigth , value  )  \n",
        "\n",
        "    def remove( self , value ):\n",
        "        if self.root == None:\n",
        "            print(\"El arbol esta vacio\")\n",
        "            return None\n",
        "        else:\n",
        "            return self.__remove( self.root , value )\n",
        "    \n",
        "    def __remove( self, nodo , value ):\n",
        "        if nodo == None:\n",
        "            print(\"El dato no existe en el árbol\") \n",
        "            return None\n",
        "        elif nodo.data == value:\n",
        "            print(\"Eliminando\", nodo.data)\n",
        "            \n",
        "            return nodo\n",
        "        elif value < nodo.data:\n",
        "            return self.__remove( nodo.left , value  )\n",
        "        else:\n",
        "            return self.__remove( nodo.rigth , value  )"
      ],
      "metadata": {
        "id": "nC4pUQfblhyP"
      },
      "execution_count": 7,
      "outputs": []
    },
    {
      "cell_type": "code",
      "source": [
        "abb = BinarySearchTree()\n",
        "abb.insert(30)\n",
        "abb.insert(15)\n",
        "abb.insert(45)\n",
        "abb.insert(12)\n",
        "abb.insert(17)\n",
        "abb.insert(50)\n",
        "abb.insert(55)\n",
        "abb.insert(35)\n",
        "abb.insert(2)\n",
        "abb.insert(1)\n",
        "abb.insert(80)\n",
        "abb.insert(60)\n",
        "abb.transversal(\"posorden\")\n",
        "abb.transversal(\"preorden\")\n",
        "abb.transversal(\"inorden\")\n",
        "res = abb.search(45)\n",
        "print(res) \n",
        "print(res.data) \n",
        "print(res.left.data)\n",
        "abb.remove(60)"
      ],
      "metadata": {
        "colab": {
          "base_uri": "https://localhost:8080/"
        },
        "id": "qb3_ffnpltXQ",
        "outputId": "8bc8de51-7394-4f72-bfbb-e7162709b26d"
      },
      "execution_count": 8,
      "outputs": [
        {
          "output_type": "stream",
          "name": "stdout",
          "text": [
            "1 , 2 , 12 , 17 , 15 , 35 , 60 , 80 , 55 , 50 , 45 , 30 , \n",
            "30 , 15 , 12 , 2 , 1 , 17 , 45 , 35 , 50 , 55 , 80 , 60 , \n",
            "1 , 2 , 12 , 15 , 17 , 30 , 35 , 45 , 50 , 55 , 60 , 80 , \n",
            "Encontrado 45\n",
            "<__main__.BinaryNode object at 0x7f6a85384fd0>\n",
            "45\n",
            "35\n",
            "Eliminando 60\n"
          ]
        },
        {
          "output_type": "execute_result",
          "data": {
            "text/plain": [
              "<__main__.BinaryNode at 0x7f6a85384550>"
            ]
          },
          "metadata": {},
          "execution_count": 8
        }
      ]
    }
  ]
}