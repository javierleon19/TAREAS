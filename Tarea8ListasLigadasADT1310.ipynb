{
  "nbformat": 4,
  "nbformat_minor": 0,
  "metadata": {
    "colab": {
      "name": "ListasLigadasADT1310.ipynb",
      "provenance": [],
      "collapsed_sections": [],
      "authorship_tag": "ABX9TyP53Ucexdss9V00BHporOL6",
      "include_colab_link": true
    },
    "kernelspec": {
      "name": "python3",
      "display_name": "Python 3"
    },
    "language_info": {
      "name": "python"
    }
  },
  "cells": [
    {
      "cell_type": "markdown",
      "metadata": {
        "id": "view-in-github",
        "colab_type": "text"
      },
      "source": [
        "<a href=\"https://colab.research.google.com/github/javierleon19/TAREAS/blob/main/Tarea8ListasLigadasADT1310.ipynb\" target=\"_parent\"><img src=\"https://colab.research.google.com/assets/colab-badge.svg\" alt=\"Open In Colab\"/></a>"
      ]
    },
    {
      "cell_type": "markdown",
      "metadata": {
        "id": "Qx3ZX2d80vTC"
      },
      "source": [
        "#Ejercicio con la clase nodo\n",
        "\n",
        "- Crear un nodo 10\n",
        "  - Imprimir el valor del nodo\n",
        "- Crear dos nodos 10,20\n",
        "   - Imprimir el valor del primero\n",
        "   - Imprimir el valor del segundo \n",
        "   - transversal   \n",
        "- Lo mismo pero con el valor de 4 nodos 10,20,30,40\n",
        "   - Imprimir el valor del primero\n",
        "   - Imprimir el valor del segundo \n",
        "   - transversal   \n",
        "#Todo esto antes de ir a la escritura formal \n",
        "\n",
        "\n"
      ]
    },
    {
      "cell_type": "code",
      "metadata": {
        "id": "jJKGuoEd1aPW"
      },
      "source": [
        "class Nodo:\n",
        "  def __init__( self , value , siguiente = None ):\n",
        "    self.data = value\n",
        "    self.next = siguiente"
      ],
      "execution_count": 8,
      "outputs": []
    },
    {
      "cell_type": "code",
      "metadata": {
        "colab": {
          "base_uri": "https://localhost:8080/"
        },
        "id": "gr21MY_g1t6-",
        "outputId": "1d68acb5-a55e-45e4-90a7-7ce7df738a9f"
      },
      "source": [
        "head = Nodo(10)\n",
        "print( head.data )"
      ],
      "execution_count": 9,
      "outputs": [
        {
          "output_type": "stream",
          "name": "stdout",
          "text": [
            "10\n"
          ]
        }
      ]
    },
    {
      "cell_type": "code",
      "metadata": {
        "colab": {
          "base_uri": "https://localhost:8080/"
        },
        "id": "ZUa2yszO2fPr",
        "outputId": "5f11b22d-4b69-466e-c234-1248b99c3ece"
      },
      "source": [
        "head = Nodo(10)\n",
        "head.next = Nodo(20)\n",
        "print(f\"Primero={ head.data }\")\n",
        "print(f\"Segundo={ head.next.data}\")\n",
        "\n",
        "#Lo mismo pero ahorando código \n",
        "head = Nodo( 10 , Nodo(20))\n",
        "print(f\"Primero={ head.data }\")\n",
        "print(f\"Segundo={ head.next.data}\")\n",
        "\n",
        "#transversal \n",
        "curr_node = head\n",
        "while curr_node != None:\n",
        "  print(f\"| { curr_node.data } | --> \" , end = \"\" )\n",
        "  curr_node = curr_node.next\n",
        "print(\"\")\n"
      ],
      "execution_count": 10,
      "outputs": [
        {
          "output_type": "stream",
          "name": "stdout",
          "text": [
            "Primero=10\n",
            "Segundo=20\n",
            "Primero=10\n",
            "Segundo=20\n",
            "| 10 | --> | 20 | --> \n"
          ]
        }
      ]
    },
    {
      "cell_type": "code",
      "metadata": {
        "colab": {
          "base_uri": "https://localhost:8080/"
        },
        "id": "UdAoJZtA66S-",
        "outputId": "61200f94-e462-47f3-d13f-87ba6055e0fc"
      },
      "source": [
        "head = Nodo(10,Nodo(20,Nodo(30,Nodo(40))))\n",
        "curr_node = head\n",
        "while curr_node != None:\n",
        "  print(f\"| { curr_node.data } | --> \" , end = \"\" )\n",
        "  curr_node = curr_node.next\n",
        "print(\"\")\n",
        "#Vamos a imprimir el primero\n",
        "print(head.data)\n",
        "#Vamos a imprimir el ultimo \n",
        "curr_node = head\n",
        "while curr_node.next != None:\n",
        "  curr_node = curr_node.next\n",
        "print(curr_node.data)  \n",
        "\n",
        "#Insertar el nodo 25, despues el nodo 20 y antes \n",
        "curr_node = head\n",
        "while curr_node.data != 20:\n",
        "  curr_node = curr_node.next\n",
        "  print(curr_node.data)\n",
        "\n",
        "#Crear el nodo 25\n",
        "curr_node.next = Nodo(25, curr_node.next)\n",
        "print(\"Despues de insertar el 25\")\n",
        "while curr_node != None:\n",
        "  print(f\"{curr_node.data} | -->\" , end=\"\")\n",
        "  curr_node = curr_node.next\n",
        "print(\"\")  "
      ],
      "execution_count": 11,
      "outputs": [
        {
          "output_type": "stream",
          "name": "stdout",
          "text": [
            "| 10 | --> | 20 | --> | 30 | --> | 40 | --> \n",
            "10\n",
            "40\n",
            "20\n",
            "Despues de insertar el 25\n",
            "20 | -->25 | -->30 | -->40 | -->\n"
          ]
        }
      ]
    },
    {
      "cell_type": "code",
      "metadata": {
        "colab": {
          "base_uri": "https://localhost:8080/"
        },
        "id": "zS_M_Y2ibEWW",
        "outputId": "246899a4-b990-4cb9-9cde-1b901b0c6792"
      },
      "source": [
        "a = 10\n",
        "b = 20\n",
        "c = 15\n",
        "c = c + a\n",
        "\n",
        "c = (c + a) * b\n",
        "print(c)"
      ],
      "execution_count": 12,
      "outputs": [
        {
          "output_type": "stream",
          "name": "stdout",
          "text": [
            "700\n"
          ]
        }
      ]
    },
    {
      "cell_type": "code",
      "metadata": {
        "id": "cJNKZbzGc-jJ"
      },
      "source": [
        "class Nodo:\n",
        "  def __init__(self,value,siguiente = None):\n",
        "    self.data= value\n",
        "    self.next= siguiente\n",
        "\n",
        "class LinkedList:\n",
        "  def __init__(self):\n",
        "    self.head = None\n",
        "\n",
        "  def is_empty (self):\n",
        "    return self.head == None\n",
        "\n",
        "  def get_tail(self):\n",
        "    if self.is_empty():\n",
        "      return None\n",
        "    else:\n",
        "      curr_node = self.head\n",
        "      while curr_node.next != None:\n",
        "        curr_node = curr_node.next\n",
        "      return curr_node\n",
        "\n",
        "  def append( self, value):\n",
        "    if self.head == None:\n",
        "        self.head = Nodo(value)\n",
        "    else:\n",
        "      curr_node = self.head\n",
        "      while curr_node.next != None:\n",
        "        curr_node = curr_node.next\n",
        "      curr_node.next = Nodo(value)\n",
        "\n",
        "  def transversal (self):\n",
        "    curr_node = self.head\n",
        "    while curr_node != None:\n",
        "      print(f\"| {curr_node.data} | -->\", end=\"\")\n",
        "      curr_node = curr_node.next\n",
        "    print (\"\")\n",
        "\n",
        "  def remove ( self , value):\n",
        "    if self.head == None:\n",
        "      print(\"Lista vacia, no se pudo remover nada\")\n",
        "    else:\n",
        "      curr_node = self.head\n",
        "      aux = None\n",
        "      while curr_node.data != value:\n",
        "        aux = curr_node\n",
        "        curr_node = curr_node.next\n",
        "        \n",
        "      if curr_node != None:\n",
        "        aux.next = curr_node.next\n",
        "        curr_node = None\n",
        "\n",
        "  def preppend ( self, value):\n",
        "    if self.head != None:\n",
        "      print(\"esta vacio\")\n",
        "    else:\n",
        "      aux = self.head\n",
        "      self.head = Nodo (value,aux)\n",
        "\n",
        "  def pop(self):\n",
        "    curr_node = self.head \n",
        "    while curr_node.next.next != None:      \n",
        "      curr_node = curr_node.next\n",
        "    print(curr_node.next.data)\n",
        "    curr_node.next = None\n",
        "\n",
        "  def pop_first(self):\n",
        "    print(self.head.data)\n",
        "    self.head = self.head.next"
      ],
      "execution_count": 13,
      "outputs": []
    },
    {
      "cell_type": "code",
      "metadata": {
        "colab": {
          "base_uri": "https://localhost:8080/"
        },
        "id": "OrOjoqfgfz84",
        "outputId": "36d5bd1d-af0b-44fd-862e-3eb56b34059a"
      },
      "source": [
        "lista = LinkedList()\n",
        "\n",
        "if lista.is_empty:\n",
        "  print(\"La lista esta vacia\")\n",
        "else:\n",
        "  print(\"La lista no esta vacia\")\n",
        "\n",
        "lista.append(10)\n",
        "lista.append(20)\n",
        "lista.append(30)\n",
        "lista.append(40)\n",
        "lista.append(50)\n",
        "\n",
        "nodo = lista.get_tail()\n",
        "if nodo != None:\n",
        "  print(nodo.data)\n",
        "else: \n",
        "  print(\"La lista esta vacia\")\n",
        "\n",
        "lista.transversal()\n",
        "lista.remove(30)\n",
        "lista.transversal()\n",
        "lista.preppend(5)\n",
        "print(\"Despues del preppend\")\n",
        "lista.transversal()\n",
        "print(\"Esto despues de pop\")\n",
        "lista.pop()\n",
        "lista.transversal()\n",
        "print(\"Esto despues de pop first\")\n",
        "lista.pop_first()\n",
        "lista.transversal()"
      ],
      "execution_count": 14,
      "outputs": [
        {
          "output_type": "stream",
          "name": "stdout",
          "text": [
            "La lista esta vacia\n",
            "50\n",
            "| 10 | -->| 20 | -->| 30 | -->| 40 | -->| 50 | -->\n",
            "| 10 | -->| 20 | -->| 40 | -->| 50 | -->\n",
            "esta vacio\n",
            "Despues del preppend\n",
            "| 10 | -->| 20 | -->| 40 | -->| 50 | -->\n",
            "Esto despues de pop\n",
            "50\n",
            "| 10 | -->| 20 | -->| 40 | -->\n",
            "Esto despues de pop first\n",
            "10\n",
            "| 20 | -->| 40 | -->\n"
          ]
        }
      ]
    },
    {
      "cell_type": "markdown",
      "metadata": {
        "id": "Cl8g04NWs3y5"
      },
      "source": [
        "#Lista soblemente ligada "
      ]
    },
    {
      "cell_type": "code",
      "metadata": {
        "id": "2JOkYa-ns77w"
      },
      "source": [
        "class NodoDoble:\n",
        "  def __init__( self , value , siguiente = None , previo = None ):\n",
        "    self.data = value\n",
        "    self.next = siguiente\n",
        "    self.prev = previo\n",
        "    "
      ],
      "execution_count": 15,
      "outputs": []
    },
    {
      "cell_type": "markdown",
      "metadata": {
        "id": "KUu0j1lMtiGp"
      },
      "source": [
        "#Ejercicio con la clase NodoDoble\n",
        "\n",
        "- Crear un nodo 10\n",
        "  - Imprimir el valor del nodo\n",
        "- Crear dos nodos 10,20\n",
        "   - Imprimir el valor del primero\n",
        "   - Imprimir el valor del segundo \n",
        "   - transversal   \n",
        "- Lo mismo pero con el valor de 4 nodos 10,20,30,40\n",
        "   - Imprimir el valor del primero\n",
        "   - Imprimir el valor del segundo \n",
        "   - transversal   \n",
        "   - reverse transversal\n",
        "   - insertar un nodo al final\n",
        "#Todo esto antes de ir a la escritura formal \n",
        "\n",
        "\n"
      ]
    },
    {
      "cell_type": "code",
      "metadata": {
        "colab": {
          "base_uri": "https://localhost:8080/"
        },
        "id": "mppwbK-BtmTM",
        "outputId": "b8f5e6e8-f2fa-4161-fcc8-77bdf57b8092"
      },
      "source": [
        "#ejercicio 1\n",
        "head = NodoDoble(10)\n",
        "tail = head\n",
        "print( head.data )\n",
        "print( tail.data )\n",
        "\n",
        "#ejercicio 2\n",
        "\n",
        "print(\"Ejercicio 2\")\n",
        "head = NodoDoble( 10 , NodoDoble(20))\n",
        "head.next.prev = head\n",
        "tail = head.next\n",
        "print(\"el primero :\" , head.data)\n",
        "print(\"el segundo :\" , tail.prev.data)\n",
        "\n",
        "print(\"el primero :\" , head.next.data)\n",
        "print(\"el segundo :\" , tail.data)\n",
        "\n",
        "\"\"\"\n",
        "Ejercicio 3\n",
        "Lo mismo pero con el valor de 4 nodos 10,20,30,40\n",
        "   - Imprimir el valor del primero\n",
        "   - Imprimir el valor del segundo \n",
        "\"\"\"\n",
        "\"\"\"\n",
        "head = NodoDoble(10,NodoDoble(20,NodoDoble(30,NodoDoble(40))))\n",
        "tail = head\n",
        "print(\"\")\n",
        "#Vamos a imprimir el primero\n",
        "print(head.data)\n",
        "#Vamos a imprimir el ultimo \n",
        "tail = head\n",
        "while tail.next != None:\n",
        "  tail = tail.next\n",
        "print(tail.data)  \n",
        "\"\"\"\n",
        "print(\"Ejercicio 3\")\n",
        "head = NodoDoble(10,NodoDoble(20,NodoDoble(30,NodoDoble(40))))\n",
        "tail = head.next.next.next\n",
        "head.next.prev = head\n",
        "head.next.next.prev = head.next\n",
        "tail.prev = head.next.next\n",
        "print(\"el primero :\" , head.data)\n",
        "print(\"el ultimo :\" , tail.prev.prev.prev.data)\n",
        "\n",
        "print(\"el ultimo:\" , tail.data)\n",
        "print(\"el ultimo:\" , head.next.next.next.data)\n",
        "\n",
        "#tranversal\n",
        "print(\"transversal\")\n",
        "curr_node = head\n",
        "while curr_node != None:\n",
        "  print(f\"| { curr_node.data } | --> \" , end = \"\" )\n",
        "  curr_node = curr_node.next\n",
        "print(\"\")\n",
        "\n",
        "#reverse tranversal \n",
        "print(\"reverse transversal\")\n",
        "curr_node = tail\n",
        "while curr_node != None:\n",
        "  print(f\"| { curr_node.data } | --> \" , end = \"\" )\n",
        "  curr_node = curr_node.prev\n",
        "print(\"\")\n",
        "\n",
        "#insertar un nodo al final \n",
        "print(\"Agregar el 50 al final\")\n",
        "tail.next = NodoDoble( 50 , None , tail )\n",
        "curr_node = head\n",
        "while curr_node != None:\n",
        "  print(f\"| { curr_node.data } | --> \" , end = \"\" )\n",
        "  curr_node = curr_node.next\n",
        "print(\"\")\n",
        "\n"
      ],
      "execution_count": 16,
      "outputs": [
        {
          "output_type": "stream",
          "name": "stdout",
          "text": [
            "10\n",
            "10\n",
            "Ejercicio 2\n",
            "el primero : 10\n",
            "el segundo : 10\n",
            "el primero : 20\n",
            "el segundo : 20\n",
            "Ejercicio 3\n",
            "el primero : 10\n",
            "el ultimo : 10\n",
            "el ultimo: 40\n",
            "el ultimo: 40\n",
            "transversal\n",
            "| 10 | --> | 20 | --> | 30 | --> | 40 | --> \n",
            "reverse transversal\n",
            "| 40 | --> | 30 | --> | 20 | --> | 10 | --> \n",
            "Agregar el 50 al final\n",
            "| 10 | --> | 20 | --> | 30 | --> | 40 | --> | 50 | --> \n"
          ]
        }
      ]
    },
    {
      "cell_type": "code",
      "metadata": {
        "id": "3T2m1nbv8zwB"
      },
      "source": [
        "class DoubleLinkedList:\n",
        "  def __init__( self ):\n",
        "    self.head = None\n",
        "    self.tail = None\n",
        "    self.size = 0\n",
        "\n",
        "  def get_size( self ):\n",
        "    return self.size\n",
        "\n",
        "  def is_empty( self ): #true si la lista está vacia\n",
        "    return self.size == 0  \n",
        "\n",
        "  def append( self , value ):\n",
        "    if self.is_empty():\n",
        "      self.head = NodoDoble( value )\n",
        "      self.tail = self.head\n",
        "    else:\n",
        "      self.tail.next = NodoDoble( value , None , tail )\n",
        "      self.tail = self.tail.next\n",
        "    self.size += 1\n",
        "\n",
        "  def transversal( self ):\n",
        "    curr_node = self.head\n",
        "    while curr_node != None:\n",
        "      print(f\"| {curr_node.data} | -->\" , end=\"\")\n",
        "      curr_node = curr_node.next\n",
        "    print(\"\") \n",
        "\n",
        "  def remove_from_head( self , value  ):    \n",
        "    curr_node = self.head\n",
        "    while curr_node.data != value:      \n",
        "      curr_node = curr_node.next\n",
        "    if curr_node.data == value:            \n",
        "      curr_node.prev.next = curr_node.next\n",
        "      curr_node.next.prev = curr_node.prev        \n",
        "\n",
        "  def remove_from_tail(self, value):\n",
        "    curr_node = self.tail\n",
        "    while curr_node.data != value:      \n",
        "      curr_node = curr_node.prev\n",
        "        \n",
        "    if curr_node.data == value:      \n",
        "      curr_node.next.prev = curr_node.prev\n",
        "      curr_node.prev.next = curr_node.next           \n",
        "           \n",
        "  def find_from_head(self, value):   \n",
        "    curr_node = self.head \n",
        "    contador = 0\n",
        "    while curr_node.data != value:            \n",
        "      contador += 1\n",
        "      curr_node = curr_node.next\n",
        "\n",
        "    if curr_node.data == value:      \n",
        "      print(f\"El nodo está en la posición: {contador + 1} entrand0 por head\")\n",
        "\n",
        "  def find_from_tail(self, value):\n",
        "    curr_node = self.tail\n",
        "    contador = 0\n",
        "    while curr_node.data != value:      \n",
        "      contador += 1\n",
        "      curr_node = curr_node.prev\n",
        "        \n",
        "    if curr_node.data == value:\n",
        "      print(f\"El nodo está en la posición: {contador + 1} entrando por tail\")\n",
        "            \n",
        "  def reverse_transversal(self):\n",
        "    curr_node = self.tail\n",
        "    while curr_node != None:\n",
        "      print(f\"| {curr_node.data} | -->\", end=\"\")\n",
        "      curr_node = curr_node.prev\n",
        "    print(\"\")  \n"
      ],
      "execution_count": 22,
      "outputs": []
    },
    {
      "cell_type": "code",
      "metadata": {
        "colab": {
          "base_uri": "https://localhost:8080/"
        },
        "id": "baXurHQy_zP3",
        "outputId": "0d9032c3-33cb-4d84-b1f7-fbaf598495bd"
      },
      "source": [
        "ldl = DoubleLinkedList()\n",
        "ldl.append(10)\n",
        "ldl.append(20)\n",
        "ldl.append(30)\n",
        "ldl.append(40)\n",
        "ldl.append(50)\n",
        "ldl.append(60)\n",
        "ldl.append(70)\n",
        "ldl.transversal()\n",
        "print(f\"Esta vacía {ldl.is_empty() } \")\n",
        "print(\"Usando remove_from_head\")\n",
        "ldl.remove_from_head(30)\n",
        "ldl.transversal()\n",
        "print(\"Usando remove_from_tail\")\n",
        "ldl.remove_from_tail(20)\n",
        "ldl.transversal()\n",
        "print(\"\")\n",
        "print(\"Usando find_from_head\")\n",
        "print(f\"La Lista Doblemente Ligada tiene {ldl.get_size()} elementos\")\n",
        "print(\"\")\n",
        "ldl.find_from_head(10)\n",
        "print(f\"La Lista Doblemente Ligada tiene {ldl.get_size()} elementos\")\n",
        "print(\"\")\n",
        "ldl.find_from_tail(10)\n",
        "print(\"\")\n",
        "ldl.find_from_head(50)\n",
        "print(\"\")\n",
        "print(\"Usando reverse_transversal\")\n",
        "ldl.reverse_transversal()"
      ],
      "execution_count": 24,
      "outputs": [
        {
          "output_type": "stream",
          "name": "stdout",
          "text": [
            "| 10 | -->| 20 | -->| 30 | -->| 40 | -->| 50 | -->| 60 | -->| 70 | -->\n",
            "Esta vacía False \n",
            "Usando remove_from_head\n",
            "| 10 | -->| 20 | -->| 30 | -->| 40 | -->| 50 | -->| 60 | -->| 70 | -->\n",
            "Usando remove_from_tail\n",
            "| 10 | -->| 20 | -->| 30 | -->| 40 | -->| 50 | -->| 60 | -->| 70 | -->\n",
            "\n",
            "Usando find_from_head\n",
            "La Lista Doblemente Ligada tiene 7 elementos\n",
            "\n",
            "El nodo está en la posición: 1 entrand0 por head\n",
            "La Lista Doblemente Ligada tiene 7 elementos\n",
            "\n",
            "El nodo está en la posición: 4 entrando por tail\n",
            "\n",
            "El nodo está en la posición: 5 entrand0 por head\n",
            "\n",
            "Usando reverse_transversal\n",
            "| 70 | -->| 40 | -->| 30 | -->| 10 | -->\n"
          ]
        }
      ]
    }
  ]
}