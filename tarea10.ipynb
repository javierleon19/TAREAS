{
  "nbformat": 4,
  "nbformat_minor": 0,
  "metadata": {
    "colab": {
      "name": "tarea10.ipynb",
      "provenance": [],
      "authorship_tag": "ABX9TyNbOTH1CpGpJKSzRndevjA+",
      "include_colab_link": true
    },
    "kernelspec": {
      "name": "python3",
      "display_name": "Python 3"
    },
    "language_info": {
      "name": "python"
    }
  },
  "cells": [
    {
      "cell_type": "markdown",
      "metadata": {
        "id": "view-in-github",
        "colab_type": "text"
      },
      "source": [
        "<a href=\"https://colab.research.google.com/github/javierleon19/TAREAS/blob/main/tarea10.ipynb\" target=\"_parent\"><img src=\"https://colab.research.google.com/assets/colab-badge.svg\" alt=\"Open In Colab\"/></a>"
      ]
    },
    {
      "cell_type": "code",
      "metadata": {
        "id": "N_3sxFcaE63y"
      },
      "source": [
        "class Queue:\n",
        "  def __init__ (self):\n",
        "    self.data = []\n",
        "\n",
        "  def is_empty (self):\n",
        "    return len(self.data) == 0\n",
        "  \n",
        "  def length (self):\n",
        "    return len(self.data)\n",
        "\n",
        "  def enqueue(self,value):\n",
        "    self.data.append(value)\n",
        "\n",
        "  def dequeue(self):\n",
        "    return self.data.pop(0)\n",
        "\n",
        "  def to_string(self):\n",
        "    for elem in self.data:\n",
        "      print(f\" {elem} <--\", end = \"\")\n",
        "    print(\"\")"
      ],
      "execution_count": 12,
      "outputs": []
    },
    {
      "cell_type": "code",
      "metadata": {
        "id": "NIcAkwDbFBMc"
      },
      "source": [
        "class BoundedPriorityQueue:\n",
        "  def __init__ (self, prioridad):\n",
        "    self.data =[Queue() for x in range(prioridad) ]\n",
        "    self.size = 0 \n",
        "  \n",
        "  def is_empty(self):\n",
        "    return self.size == 0\n",
        "\n",
        "  def length(self):\n",
        "    return self.size\n",
        "  \n",
        "  def enqueue(self, prioridad, elem):\n",
        "    if prioridad < len(self.data) and prioridad >= 0:\n",
        "      self.data[prioridad].enqueue(elem)\n",
        "      self.size += 1\n",
        "  \n",
        "  def dequeue(self):\n",
        "    if not self.is_empty():\n",
        "      for prioridad in self.data:\n",
        "        if not prioridad.is_empty():\n",
        "          self.size -= 1\n",
        "          return prioridad.dequeue()\n",
        "  \n",
        "  def to_string(self):\n",
        "    for prioridad in range(len(self.data)):\n",
        "      print(f\"Prioridad {prioridad} --> {self.data[prioridad].to_string()}\")"
      ],
      "execution_count": 13,
      "outputs": []
    },
    {
      "cell_type": "code",
      "metadata": {
        "colab": {
          "base_uri": "https://localhost:8080/"
        },
        "id": "zAaUEwfqFFc_",
        "outputId": "a265c554-9db0-4a73-8a7f-38c6825c9782"
      },
      "source": [
        "#Sala de cine y de prioridades\n",
        "sala = BoundedPriorityQueue(5)\n",
        "\n",
        "#Comprobacion de la cola de la sala \n",
        "print(f\"La sala esta vacia? {sala.is_empty()} \")\n",
        "print(\"Pueden pasar a la sala.\")\n",
        "\n",
        "#Espectadores se evaluaran por precio de boleto 1mayor prioridad\n",
        "NormalA = {\"prioridad\": 3, \"descripcion\":\"NormalA\", \"Espectadores\":[\"Dante Rodriguez\", \"Aura Franco\"]}\n",
        "VipA = {\"prioridad\": 2, \"descripcion\":\"VipA\", \"Espectadores\":[\"Javier Gomez\"]}\n",
        "VipB = {\"prioridad\": 2, \"descripcion\":\"VipB\", \"Espectadores\":[\"Sve sanchez\"]}\n",
        "NormalB = {\"prioridad\": 3, \"descripcion\":\"NormalB\", \"Espectadores\":[\"Viridiana Gomez\", \"JuanPa Sanchez\"]}\n",
        "Niños = {\"prioridad\": 1, \"descripcion\":\"Niños\", \"Espectadores\":[\"Kevin Gomez\", \"Dylan Sandoval\"]}\n",
        "Limpieza = {\"prioridad\": 4, \"descripcion\":\"Limpieza\", \"Espectadores\":[\"Luchita\", \"Yesenia\"]}\n",
        "TerceraEdad = {\"prioridad\": 2, \"descripcion\":\"3ra-Edad\", \"Espectadores\":[\"Abuelita Lola\", \"Abuelito pepe\", \"Abuelita Esther\"]}\n",
        "\n",
        "\n",
        "sala.enqueue(VipB['prioridad'], VipB)\n",
        "sala.enqueue(Niños['prioridad'], Niños)\n",
        "sala.enqueue(Limpieza['prioridad'], Limpieza)\n",
        "sala.enqueue(NormalB['prioridad'], NormalB)\n",
        "sala.enqueue(TerceraEdad['prioridad'], TerceraEdad)\n",
        "sala.enqueue(NormalA['prioridad'], NormalA)\n",
        "sala.enqueue(VipA['prioridad'], VipA)\n",
        "\n",
        "\n",
        "\n",
        "print(f\"La sala esta llena? {not sala.is_empty()}\")\n",
        "\n",
        "print(\"\\n--------------<><><>--------------Espectadores y su prioridad-------------<><><>--------\\n\")\n",
        "sala.to_string()\n",
        "\n",
        "\n",
        "#Termina la pelicula, los espectadores salen de la sala\n",
        "print(\"\\n--------------<><><>--------------Analisis de la sala------------<><><>------------\\n\")\n",
        "while (not sala.is_empty()):\n",
        "  print(f\"Ha salido de la sala: {sala.dequeue()}\\n\")\n",
        "if sala.is_empty():\n",
        "  print(\"-------------------<><><><><><><><><><><><><>-----------------------\")\n",
        "  print(\"\\nLa sala esta vacia, todos salieron.\")"
      ],
      "execution_count": 14,
      "outputs": [
        {
          "output_type": "stream",
          "name": "stdout",
          "text": [
            "La sala esta vacia? True \n",
            "Pueden pasar a la sala.\n",
            "La sala esta llena? True\n",
            "\n",
            "--------------<><><>--------------Espectadores y su prioridad-------------<><><>--------\n",
            "\n",
            "\n",
            "Prioridad 0 --> None\n",
            " {'prioridad': 1, 'descripcion': 'Niños', 'Espectadores': ['Kevin Gomez', 'Dylan Sandoval']} <--\n",
            "Prioridad 1 --> None\n",
            " {'prioridad': 2, 'descripcion': 'VipB', 'Espectadores': ['Sve sanchez']} <-- {'prioridad': 2, 'descripcion': '3ra-Edad', 'Espectadores': ['Abuelita Lola', 'Abuelito pepe', 'Abuelita Esther']} <-- {'prioridad': 2, 'descripcion': 'VipA', 'Espectadores': ['Javier Gomez']} <--\n",
            "Prioridad 2 --> None\n",
            " {'prioridad': 3, 'descripcion': 'NormalB', 'Espectadores': ['Viridiana Gomez', 'JuanPa Sanchez']} <-- {'prioridad': 3, 'descripcion': 'NormalA', 'Espectadores': ['Dante Rodriguez', 'Aura Franco']} <--\n",
            "Prioridad 3 --> None\n",
            " {'prioridad': 4, 'descripcion': 'Limpieza', 'Espectadores': ['Luchita', 'Yesenia']} <--\n",
            "Prioridad 4 --> None\n",
            "\n",
            "--------------<><><>--------------Analisis de la sala------------<><><>------------\n",
            "\n",
            "Ha salido de la sala: {'prioridad': 1, 'descripcion': 'Niños', 'Espectadores': ['Kevin Gomez', 'Dylan Sandoval']}\n",
            "\n",
            "Ha salido de la sala: {'prioridad': 2, 'descripcion': 'VipB', 'Espectadores': ['Sve sanchez']}\n",
            "\n",
            "Ha salido de la sala: {'prioridad': 2, 'descripcion': '3ra-Edad', 'Espectadores': ['Abuelita Lola', 'Abuelito pepe', 'Abuelita Esther']}\n",
            "\n",
            "Ha salido de la sala: {'prioridad': 2, 'descripcion': 'VipA', 'Espectadores': ['Javier Gomez']}\n",
            "\n",
            "Ha salido de la sala: {'prioridad': 3, 'descripcion': 'NormalB', 'Espectadores': ['Viridiana Gomez', 'JuanPa Sanchez']}\n",
            "\n",
            "Ha salido de la sala: {'prioridad': 3, 'descripcion': 'NormalA', 'Espectadores': ['Dante Rodriguez', 'Aura Franco']}\n",
            "\n",
            "Ha salido de la sala: {'prioridad': 4, 'descripcion': 'Limpieza', 'Espectadores': ['Luchita', 'Yesenia']}\n",
            "\n",
            "-------------------<><><><><><><><><><><><><>-----------------------\n",
            "\n",
            "La sala esta vacia, todos salieron.\n"
          ]
        }
      ]
    }
  ]
}