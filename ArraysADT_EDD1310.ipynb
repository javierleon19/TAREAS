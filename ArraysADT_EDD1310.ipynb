{
  "nbformat": 4,
  "nbformat_minor": 0,
  "metadata": {
    "colab": {
      "name": "ArraysADT-EDD1310.ipynb",
      "provenance": [],
      "collapsed_sections": [],
      "authorship_tag": "ABX9TyM4kVeTKcvxMtKFoxcwlpFk",
      "include_colab_link": true
    },
    "kernelspec": {
      "name": "python3",
      "display_name": "Python 3"
    },
    "language_info": {
      "name": "python"
    }
  },
  "cells": [
    {
      "cell_type": "markdown",
      "metadata": {
        "id": "view-in-github",
        "colab_type": "text"
      },
      "source": [
        "<a href=\"https://colab.research.google.com/github/javierleon19/TAREAS/blob/main/ArraysADT_EDD1310.ipynb\" target=\"_parent\"><img src=\"https://colab.research.google.com/assets/colab-badge.svg\" alt=\"Open In Colab\"/></a>"
      ]
    },
    {
      "cell_type": "code",
      "metadata": {
        "colab": {
          "base_uri": "https://localhost:8080/"
        },
        "id": "ffzQ3Sc5flvr",
        "outputId": "5b984b48-789b-4502-902c-c25216b2e5ce"
      },
      "source": [
        "class Array:\n",
        "  def __init__( self , tam ):\n",
        "    self.__tamanio = tam\n",
        "    self.__data = [ 0 for x in range(self.__tamanio)  ]\n",
        "\n",
        "  def to_string( self ):\n",
        "    info = \"\"\n",
        "    for dato in self.__data:\n",
        "      infor = info + str(dato) + \"|\"\n",
        "    return info  \n",
        "\n",
        "  def get_item( self , index ):\n",
        "    return self.__data[index]  \n",
        "  \n",
        "  def get_lenght( self ):\n",
        "     return len( self.__data)\n",
        "\n",
        "  def  set_item( self , dato , index):\n",
        "    if index >= 0  and index < self.get_lenght():\n",
        "      self.__data[index] = dato\n",
        "    else:\n",
        "      print(\"Error: indice fuera de rango\")\n",
        "\n",
        "  def clear ( self, dato ):\n",
        "    self.__data = [ dato for x in range(self.__tamanio) ]\n",
        "\n",
        "\n",
        "\n",
        "ejemplo = Array(20)\n",
        "print( ejemplo.to_string() )\n",
        "print( ejemplo.get_item(2) )\n",
        "ejemplo.set_item( 45 , 2 )\n",
        "print( ejemplo.to_string () )"
      ],
      "execution_count": 2,
      "outputs": [
        {
          "output_type": "stream",
          "name": "stdout",
          "text": [
            "\n",
            "0\n",
            "\n"
          ]
        }
      ]
    },
    {
      "cell_type": "code",
      "metadata": {
        "colab": {
          "base_uri": "https://localhost:8080/"
        },
        "id": "mjHtA1t9gebj",
        "outputId": "8ad59f74-2ead-43a2-bf12-87b294139930"
      },
      "source": [
        "lista = [ 3 * x for x in range(10)]\n",
        "print(lista)"
      ],
      "execution_count": null,
      "outputs": [
        {
          "output_type": "stream",
          "name": "stdout",
          "text": [
            "[0, 3, 6, 9, 12, 15, 18, 21, 24, 27]\n"
          ]
        }
      ]
    },
    {
      "cell_type": "code",
      "metadata": {
        "id": "APmufQD4lJnu"
      },
      "source": [
        ""
      ],
      "execution_count": null,
      "outputs": []
    },
    {
      "cell_type": "markdown",
      "metadata": {
        "id": "v2zD8b2hlTM_"
      },
      "source": [
        "La carpeta datos es volatil...\n"
      ]
    },
    {
      "cell_type": "code",
      "metadata": {
        "colab": {
          "base_uri": "https://localhost:8080/"
        },
        "id": "kUSSw_Ealq0F",
        "outputId": "808cee52-6329-4183-c6f5-9c8453cb4980"
      },
      "source": [
        "!cat junio.dat"
      ],
      "execution_count": 8,
      "outputs": [
        {
          "output_type": "stream",
          "name": "stdout",
          "text": [
            "numero de trabajador, nombres, paterno, materno, horas extra, sueldo base, año de ingreso\r\n",
            "2345,CARLOS,PEREZ,CASTILLO,0,9850,2017\r\n",
            "5754,ANGEL,GOMEZ,GARRIDO,1,9850,2020\r\n",
            "5345,JESUS,MARTIN,SANTOS,2,9850,2016\r\n",
            "3267,DAVID,JIMENEZ,LOZANO,2,9850,2017\r\n",
            "8765,PEDRO,RUIZ,GUERRERO,2,9850,2017\r\n",
            "5454,DANIEL,HERNANDEZ,CANO,3,9850,2018\r\n",
            "3456,ALEJANDRO,DIAZ,PRIETO,2,9850,2018\r\n",
            "3445,MARIA,MORENO,MENDEZ,1,9850,2018\r\n",
            "9088,ALBERTO,MU�OZ,CRUZ,1,9850,2017\r\n",
            "8877,RAFAEL,ALVAREZ,FLORES,2,9850,2017\r\n",
            "6767,FERNANDO,ROMERO,HERRERA,4,9850,2019\r\n",
            "5654,PABLO,ALONSO,GALLEGO,1,9850,2019\r\n",
            "4323,JORGE,GUTIERREZ,MARQUEZ,2,9850,2020\r\n",
            "2232,RAMON,NAVARRO,LEON,1,9850,2016"
          ]
        }
      ]
    },
    {
      "cell_type": "code",
      "metadata": {
        "colab": {
          "base_uri": "https://localhost:8080/"
        },
        "id": "6r3IYPaJm-WR",
        "outputId": "30310ad2-a7f2-4765-db32-306a1d7ca86b"
      },
      "source": [
        "archivo = open('junio.dat' , 'rt' , encoding='latin-1' )\n",
        "print(archivo.read())"
      ],
      "execution_count": 10,
      "outputs": [
        {
          "output_type": "stream",
          "name": "stdout",
          "text": [
            "numero de trabajador, nombres, paterno, materno, horas extra, sueldo base, aÃ±o de ingreso\n",
            "2345,CARLOS,PEREZ,CASTILLO,0,9850,2017\n",
            "5754,ANGEL,GOMEZ,GARRIDO,1,9850,2020\n",
            "5345,JESUS,MARTIN,SANTOS,2,9850,2016\n",
            "3267,DAVID,JIMENEZ,LOZANO,2,9850,2017\n",
            "8765,PEDRO,RUIZ,GUERRERO,2,9850,2017\n",
            "5454,DANIEL,HERNANDEZ,CANO,3,9850,2018\n",
            "3456,ALEJANDRO,DIAZ,PRIETO,2,9850,2018\n",
            "3445,MARIA,MORENO,MENDEZ,1,9850,2018\n",
            "9088,ALBERTO,MUOZ,CRUZ,1,9850,2017\n",
            "8877,RAFAEL,ALVAREZ,FLORES,2,9850,2017\n",
            "6767,FERNANDO,ROMERO,HERRERA,4,9850,2019\n",
            "5654,PABLO,ALONSO,GALLEGO,1,9850,2019\n",
            "4323,JORGE,GUTIERREZ,MARQUEZ,2,9850,2020\n",
            "2232,RAMON,NAVARRO,LEON,1,9850,2016\n"
          ]
        }
      ]
    },
    {
      "cell_type": "code",
      "metadata": {
        "id": "xY4DnVuJn5h8"
      },
      "source": [
        "class trabajador:\n",
        "  def init_(self , nt , nom , pat, mat , he , sb , ai):\n",
        "    self.__numero_trabajador = nt\n",
        "    #asi para todos los atributos \n",
        "\n",
        "  #aqui van todos los metodos de acceso\n",
        "  def set_numero_trabajador( self , nt):\n",
        "    self.__numero_trabajador = nt \n",
        "\n",
        "  #aqui van métodos de uso general. -----> métodos que hacen calculos de la logica \n",
        "\n",
        "\n",
        "\n",
        "\n",
        "  \n",
        "     "
      ],
      "execution_count": null,
      "outputs": []
    },
    {
      "cell_type": "code",
      "metadata": {
        "id": "o1O6elFOqCRs"
      },
      "source": [
        "class NominaADT:\n",
        "  def __init__( self ,  ruta_archivo , ):\n",
        "    #abrir el archivo y determianr el numero de empleados ----> num emp\n",
        "    self.__data = Array( num_emp )\n",
        "\n",
        "  def calcular_sueldos( self ):\n",
        "    #Iterar sobre el array y hacer el calcular sueldos \n",
        "\n",
        "  def buscar_mas_antiguo( self ):\n",
        "    #Iterar en el array el de mayor antiguedad \n",
        "\n",
        "  def buscar_menor_antiguedad( self ):\n",
        "    #idem\n"
      ],
      "execution_count": null,
      "outputs": []
    },
    {
      "cell_type": "code",
      "metadata": {
        "colab": {
          "base_uri": "https://localhost:8080/"
        },
        "id": "eOJ95slor4s_",
        "outputId": "52792978-9473-4519-ec56-91e59745460f"
      },
      "source": [
        "sueldo_base = 100\n",
        "anio = 2019\n",
        "anti = 2\n",
        "prestacion = 100 *(2 *0.03)\n",
        "print(sueldo_base + prestacion )"
      ],
      "execution_count": 12,
      "outputs": [
        {
          "output_type": "stream",
          "name": "stdout",
          "text": [
            "106.0\n"
          ]
        }
      ]
    }
  ]
}