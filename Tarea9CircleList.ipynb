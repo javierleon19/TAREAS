{
  "nbformat": 4,
  "nbformat_minor": 0,
  "metadata": {
    "colab": {
      "name": "Tarea9CircleList.ipynb",
      "provenance": [],
      "collapsed_sections": [],
      "authorship_tag": "ABX9TyPoafa0nF00TACRDLBRjzzB",
      "include_colab_link": true
    },
    "kernelspec": {
      "name": "python3",
      "display_name": "Python 3"
    },
    "language_info": {
      "name": "python"
    }
  },
  "cells": [
    {
      "cell_type": "markdown",
      "metadata": {
        "id": "view-in-github",
        "colab_type": "text"
      },
      "source": [
        "<a href=\"https://colab.research.google.com/github/javierleon19/TAREAS/blob/main/Tarea9CircleList.ipynb\" target=\"_parent\"><img src=\"https://colab.research.google.com/assets/colab-badge.svg\" alt=\"Open In Colab\"/></a>"
      ]
    },
    {
      "cell_type": "code",
      "metadata": {
        "id": "D9AELC4whSZS"
      },
      "source": [
        "class Nodo:\n",
        "  def __init__( self , value , siguiente = None ):\n",
        "    self.data = value\n",
        "    self.next = siguiente"
      ],
      "execution_count": 6,
      "outputs": []
    },
    {
      "cell_type": "code",
      "metadata": {
        "id": "du3FWvcx44IF"
      },
      "source": [
        "class CircularList:\n",
        "  def __init__( self ):\n",
        "    self.ref = None\n",
        "\n",
        "  def is_empty( self ):\n",
        "    return self.ref == None\n",
        "\n",
        "  def insert( self , value ):\n",
        "    if self.is_empty():\n",
        "      self.ref = Nodo(value)\n",
        "      self.ref.next = self.ref\n",
        "    elif self.search(value):\n",
        "      print(\"Intenta con otro valor, este ya existe\")\n",
        "    else:\n",
        "      if value > self.ref.data:\n",
        "        curr_node = self.ref\n",
        "        while curr_node.next != self.ref:\n",
        "          curr_node = curr_node.next\n",
        "        self.ref = Nodo( value , curr_node.next.next)\n",
        "        curr_node.next.next = self.ref\n",
        "      else:\n",
        "        curr_node = self.ref\n",
        "        while value > curr_node.next.data:\n",
        "          curr_node = curr_node.next\n",
        "        curr_node.next = Nodo( value , curr_node.next )  \n",
        "        \n",
        "  def transversal( self ):\n",
        "    curr_node = self.ref\n",
        "    if curr_node == self.ref and curr_node != None:\n",
        "      print(f\" | {curr_node.data} | ---> \" , end = \"\" )\n",
        "      curr_node = curr_node.next\n",
        "    while curr_node !=  self.ref:\n",
        "      print(f\" | {curr_node.data} | ---> \" , end = \"\" )\n",
        "      curr_node = curr_node.next\n",
        "    print(\"\")\n",
        "\n",
        "  def search( self , value ):\n",
        "    existe = False\n",
        "    curr_node = self.ref\n",
        "    while curr_node.next.data != self.ref.data:\n",
        "      if curr_node.next.data == value:\n",
        "        existe = True\n",
        "      curr_node = curr_node.next\n",
        "    if curr_node.next.data == self.ref.data and curr_node.next.data == value:\n",
        "      existe == True\n",
        "    return existe\n",
        "\n",
        "  def remove( self , value ):\n",
        "    if self.ref.next == self.ref:\n",
        "      self.ref = None\n",
        "    elif value == self.ref.data:\n",
        "      curr_node = self.ref\n",
        "      while curr_node.next != self.ref:\n",
        "        curr_node = curr_node.next\n",
        "      curr_node.next = self.ref.next\n",
        "      self.ref = curr_node\n",
        "    else:\n",
        "      curr_node = self.ref\n",
        "      while curr_node.next.data != value:\n",
        "        curr_node = curr_node.next\n",
        "      curr_node.next = curr_node.next.next    "
      ],
      "execution_count": 7,
      "outputs": []
    },
    {
      "cell_type": "code",
      "metadata": {
        "colab": {
          "base_uri": "https://localhost:8080/"
        },
        "id": "uoA_YfIakOuj",
        "outputId": "96bd8274-3603-444c-bcea-700b6de0d13c"
      },
      "source": [
        "cl = CircularList()\n",
        "if cl.is_empty():\n",
        "  print(\"Lista vacia\")\n",
        "else:\n",
        "  print(\"Lista no vacia\") \n",
        "\n",
        "cl.insert(10)\n",
        "cl.transversal()\n",
        "cl.insert(50)\n",
        "cl.insert(20)\n",
        "cl.insert(30)\n",
        "cl.insert(25)\n",
        "cl.insert(11)\n",
        "cl.transversal()\n",
        "cl.insert(30)\n",
        "cl.remove(11)\n",
        "cl.transversal()\n",
        "cl.insert(20)"
      ],
      "execution_count": 10,
      "outputs": [
        {
          "output_type": "stream",
          "name": "stdout",
          "text": [
            "Lista vacia\n",
            " | 10 | ---> \n",
            " | 50 | --->  | 10 | --->  | 11 | --->  | 20 | --->  | 25 | --->  | 30 | ---> \n",
            "Intenta con otro valor, este ya existe\n",
            " | 50 | --->  | 10 | --->  | 20 | --->  | 25 | --->  | 30 | ---> \n",
            "Intenta con otro valor, este ya existe\n"
          ]
        }
      ]
    }
  ]
}