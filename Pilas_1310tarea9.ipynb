{
  "nbformat": 4,
  "nbformat_minor": 0,
  "metadata": {
    "colab": {
      "name": "Pilas-1310.ipynb",
      "provenance": [],
      "collapsed_sections": [],
      "authorship_tag": "ABX9TyONepxWxTuhCRhfdkixmEXl",
      "include_colab_link": true
    },
    "kernelspec": {
      "name": "python3",
      "display_name": "Python 3"
    },
    "language_info": {
      "name": "python"
    }
  },
  "cells": [
    {
      "cell_type": "markdown",
      "metadata": {
        "id": "view-in-github",
        "colab_type": "text"
      },
      "source": [
        "<a href=\"https://colab.research.google.com/github/javierleon19/TAREAS/blob/main/Pilas_1310tarea9.ipynb\" target=\"_parent\"><img src=\"https://colab.research.google.com/assets/colab-badge.svg\" alt=\"Open In Colab\"/></a>"
      ]
    },
    {
      "cell_type": "code",
      "metadata": {
        "id": "c-q1cLtPMwPB"
      },
      "source": [
        "class StackADT:\n",
        "  def __init__(self):\n",
        "    self.__data = list()\n",
        "\n",
        "  #regresa true si la pila está vacía\n",
        "  def is_empty(self):\n",
        "    return len(self.__data) == 0\n",
        "\n",
        "  def get_length(self):\n",
        "    return len(self.__data)\n",
        "\n",
        "  def pop(self):\n",
        "    if self.is_empty():      \n",
        "      print(\"Pila vacía, nada que sacar\")\n",
        "    else:\n",
        "      return self.__data.pop()    \n",
        "\n",
        "  def peek(self):\n",
        "    if self.is_empty():\n",
        "      print(\"Pila vacia, nada que sacar\")\n",
        "    else:\n",
        "      return self.__data[ -1 ]\n",
        "\n",
        "  def push(self , value):\n",
        "    self.__data.append(value)\n",
        "\n",
        "  def to_string(self):\n",
        "    for item in self.__data[::-1]:\n",
        "      print(f\"| { item } |\")\n",
        "\n",
        "\n",
        "\n"
      ],
      "execution_count": 28,
      "outputs": []
    },
    {
      "cell_type": "code",
      "metadata": {
        "colab": {
          "base_uri": "https://localhost:8080/"
        },
        "id": "UaV8N58bQhY9",
        "outputId": "987487f1-2751-4967-c657-cbd313700556"
      },
      "source": [
        "pila = StackADT()\n",
        "print(\"Esta vacia? =\" , pila.is_empty() )\n",
        "print(\"# elementos:\" , pila.get_length() )\n",
        "pila.push(10)\n",
        "print(\"Esta vacia? =\" , pila.is_empty() )\n",
        "print(\"# elementos:\" , pila.get_length() )\n",
        "pila.push(20)\n",
        "pila.push(30)\n",
        "pila.push(40)\n",
        "pila.to_string()\n",
        "print(pila.pop())\n",
        "print(pila.peek())\n",
        "pila.to_string()"
      ],
      "execution_count": 29,
      "outputs": [
        {
          "output_type": "stream",
          "name": "stdout",
          "text": [
            "Esta vacia? = True\n",
            "# elementos: 0\n",
            "Esta vacia? = False\n",
            "# elementos: 1\n",
            "| 40 |\n",
            "| 30 |\n",
            "| 20 |\n",
            "| 10 |\n",
            "40\n",
            "30\n",
            "| 30 |\n",
            "| 20 |\n",
            "| 10 |\n"
          ]
        }
      ]
    },
    {
      "cell_type": "markdown",
      "metadata": {
        "id": "P84h83B7yhtD"
      },
      "source": [
        "#Aplicación de Pilas, balanceo de llaves de programación "
      ]
    },
    {
      "cell_type": "code",
      "metadata": {
        "colab": {
          "base_uri": "https://localhost:8080/"
        },
        "id": "Cbe742oyzPcX",
        "outputId": "f589f112-a03a-47b2-9588-1751dfa01e1d"
      },
      "source": [
        "!cat prog.txt"
      ],
      "execution_count": 30,
      "outputs": [
        {
          "output_type": "stream",
          "name": "stdout",
          "text": [
            "cat: prog.txt: No such file or directory\n"
          ]
        }
      ]
    },
    {
      "cell_type": "code",
      "metadata": {
        "colab": {
          "base_uri": "https://localhost:8080/",
          "height": 232
        },
        "id": "csfRaPyyzwh2",
        "outputId": "a16b0a69-12a1-4b9c-8c97-c5558290d30e"
      },
      "source": [
        "entrada = open('prog.txt' , 'rt')\n",
        "codigo = entrada.read()\n",
        "#print( codigo )\n",
        "pilaControl = StackADT()\n",
        "pilaControl.push('#') #Caracter de pila vacia \n",
        "\n",
        "for letra in codigo:\n",
        "  #print(f\"--> {letra} <--\")\n",
        "  if letra == '{':  #regla 1\n",
        "    pilaControl.push('{')\n",
        "  elif letra == '}':  #regla 2\n",
        "    basura = pilaControl.pop()\n",
        "  else:  \n",
        "    pass\n",
        "\n",
        "# NOTA: Este codigo aún no contempla desbalanceo de más llaves de cierre \n",
        "if pilaControl.peek() == '#':\n",
        "  print(\"El codigo proporcionado está correctamente balanceado\")\n",
        "else:\n",
        "  print(\"El codigo no está balanceado en llaves { y } \")\n",
        "\n",
        "#Tarea terminar el programa "
      ],
      "execution_count": 33,
      "outputs": [
        {
          "output_type": "error",
          "ename": "FileNotFoundError",
          "evalue": "ignored",
          "traceback": [
            "\u001b[0;31m---------------------------------------------------------------------------\u001b[0m",
            "\u001b[0;31mFileNotFoundError\u001b[0m                         Traceback (most recent call last)",
            "\u001b[0;32m<ipython-input-33-2dd124206f1d>\u001b[0m in \u001b[0;36m<module>\u001b[0;34m()\u001b[0m\n\u001b[0;32m----> 1\u001b[0;31m \u001b[0mentrada\u001b[0m \u001b[0;34m=\u001b[0m \u001b[0mopen\u001b[0m\u001b[0;34m(\u001b[0m\u001b[0;34m'prog.txt'\u001b[0m \u001b[0;34m,\u001b[0m \u001b[0;34m'rt'\u001b[0m\u001b[0;34m)\u001b[0m\u001b[0;34m\u001b[0m\u001b[0;34m\u001b[0m\u001b[0m\n\u001b[0m\u001b[1;32m      2\u001b[0m \u001b[0mcodigo\u001b[0m \u001b[0;34m=\u001b[0m \u001b[0mentrada\u001b[0m\u001b[0;34m.\u001b[0m\u001b[0mread\u001b[0m\u001b[0;34m(\u001b[0m\u001b[0;34m)\u001b[0m\u001b[0;34m\u001b[0m\u001b[0;34m\u001b[0m\u001b[0m\n\u001b[1;32m      3\u001b[0m \u001b[0;31m#print( codigo )\u001b[0m\u001b[0;34m\u001b[0m\u001b[0;34m\u001b[0m\u001b[0;34m\u001b[0m\u001b[0m\n\u001b[1;32m      4\u001b[0m \u001b[0mpilaControl\u001b[0m \u001b[0;34m=\u001b[0m \u001b[0mStackADT\u001b[0m\u001b[0;34m(\u001b[0m\u001b[0;34m)\u001b[0m\u001b[0;34m\u001b[0m\u001b[0;34m\u001b[0m\u001b[0m\n\u001b[1;32m      5\u001b[0m \u001b[0mpilaControl\u001b[0m\u001b[0;34m.\u001b[0m\u001b[0mpush\u001b[0m\u001b[0;34m(\u001b[0m\u001b[0;34m'#'\u001b[0m\u001b[0;34m)\u001b[0m \u001b[0;31m#Caracter de pila vacia\u001b[0m\u001b[0;34m\u001b[0m\u001b[0;34m\u001b[0m\u001b[0m\n",
            "\u001b[0;31mFileNotFoundError\u001b[0m: [Errno 2] No such file or directory: 'prog.txt'"
          ]
        }
      ]
    },
    {
      "cell_type": "markdown",
      "metadata": {
        "id": "b3j__b3B7Qbw"
      },
      "source": [
        "#Tarea 9.\n"
      ]
    },
    {
      "cell_type": "code",
      "metadata": {
        "id": "ETBQgGLo7YIm"
      },
      "source": [
        "class verificacionBalanceo:\n",
        "  def __init__ (self, ruta_archivo):\n",
        "    self.read_data(ruta_archivo)\n",
        "\n",
        "  def read_data(self, entrada):\n",
        "    self.entrada = open(nombre, 'rt')\n",
        "    self.codigo = self.entrada.read()\n",
        "\n",
        "  def codigo_verif( self ):        \n",
        "    self.pilaControl = StackADT()\n",
        "    self.pilaControl.push(\"#\") \n",
        "\n",
        "    for letra in self.codigo:\n",
        "      if self.pilaControl.get_length() != 0:\n",
        "        \n",
        "        if letra == '{':\n",
        "          self.pilaControl.push('{')\n",
        "        elif letra == '(':\n",
        "          self.pilaControl.push('(')\n",
        "        elif letra == '}':\n",
        "          self.pilaControl.pop()\n",
        "        elif letra == ')':\n",
        "          self.pilaControl.pop()\n",
        "        else:          \n",
        "          pass \n",
        "      else:\n",
        "        break\n",
        "\n",
        "    if self.pilaControl.peek() == '#':\n",
        "      print(\"El codigo ingresado está correctamente balanceado\")\n",
        "    else:\n",
        "      print(\"El codigo ingresado no está balanceado en () o {}\")"
      ],
      "execution_count": 35,
      "outputs": []
    },
    {
      "cell_type": "code",
      "metadata": {
        "colab": {
          "base_uri": "https://localhost:8080/"
        },
        "id": "XcsY0rEX8eEl",
        "outputId": "94da7bd4-ab6c-4af2-bf56-cfce6bf1b747"
      },
      "source": [
        "nombre = input(\"Introduce el nombre del archivo para usar el programa:  \")\n",
        "ejemplo = verificacionBalanceo(nombre)\n",
        "ejemplo.codigo_verif()"
      ],
      "execution_count": 39,
      "outputs": [
        {
          "output_type": "stream",
          "name": "stdout",
          "text": [
            "Introduce el nombre del archivo para usar el programa:  tanquesjava.txt\n",
            "El codigo ingresado está correctamente balanceado\n"
          ]
        }
      ]
    }
  ]
}