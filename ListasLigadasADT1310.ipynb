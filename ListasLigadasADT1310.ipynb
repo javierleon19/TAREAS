{
  "nbformat": 4,
  "nbformat_minor": 0,
  "metadata": {
    "colab": {
      "name": "ListasLigadasADT1310.ipynb",
      "provenance": [],
      "collapsed_sections": [],
      "authorship_tag": "ABX9TyOKSJhJm3F5fiESDPT+qF18",
      "include_colab_link": true
    },
    "kernelspec": {
      "name": "python3",
      "display_name": "Python 3"
    },
    "language_info": {
      "name": "python"
    }
  },
  "cells": [
    {
      "cell_type": "markdown",
      "metadata": {
        "id": "view-in-github",
        "colab_type": "text"
      },
      "source": [
        "<a href=\"https://colab.research.google.com/github/javierleon19/TAREAS/blob/main/ListasLigadasADT1310.ipynb\" target=\"_parent\"><img src=\"https://colab.research.google.com/assets/colab-badge.svg\" alt=\"Open In Colab\"/></a>"
      ]
    },
    {
      "cell_type": "markdown",
      "metadata": {
        "id": "Qx3ZX2d80vTC"
      },
      "source": [
        "#Ejercicio con la clase nodo\n",
        "\n",
        "- Crear un nodo 10\n",
        "  - Imprimir el valor del nodo\n",
        "- Crear dos nodos 10,20\n",
        "   - Imprimir el valor del primero\n",
        "   - Imprimir el valor del segundo \n",
        "   - transversal   \n",
        "- Lo mismo pero con el valor de 4 nodos 10,20,30,40\n",
        "   - Imprimir el valor del primero\n",
        "   - Imprimir el valor del segundo \n",
        "   - transversal   \n",
        "#Todo esto antes de ir a la escritura formal \n",
        "\n",
        "\n"
      ]
    },
    {
      "cell_type": "code",
      "metadata": {
        "id": "jJKGuoEd1aPW"
      },
      "source": [
        "class Nodo:\n",
        "  def __init__( self , value , siguiente = None ):\n",
        "    self.data = value\n",
        "    self.next = siguiente"
      ],
      "execution_count": 17,
      "outputs": []
    },
    {
      "cell_type": "code",
      "metadata": {
        "colab": {
          "base_uri": "https://localhost:8080/"
        },
        "id": "gr21MY_g1t6-",
        "outputId": "67b6b8a5-c240-4b5a-82cd-942f40f1be6c"
      },
      "source": [
        "head = Nodo(10)\n",
        "print( head.data )"
      ],
      "execution_count": 18,
      "outputs": [
        {
          "output_type": "stream",
          "name": "stdout",
          "text": [
            "10\n"
          ]
        }
      ]
    },
    {
      "cell_type": "code",
      "metadata": {
        "colab": {
          "base_uri": "https://localhost:8080/"
        },
        "id": "ZUa2yszO2fPr",
        "outputId": "acb82156-089a-4a66-a6a3-1ca212e8d27b"
      },
      "source": [
        "head = Nodo(10)\n",
        "head.next = Nodo(20)\n",
        "print(f\"Primero={ head.data }\")\n",
        "print(f\"Segundo={ head.next.data}\")\n",
        "\n",
        "#Lo mismo pero ahorando código \n",
        "head = Nodo( 10 , Nodo(20))\n",
        "print(f\"Primero={ head.data }\")\n",
        "print(f\"Segundo={ head.next.data}\")\n",
        "\n",
        "#transversal \n",
        "curr_node = head\n",
        "while curr_node != None:\n",
        "  print(f\"| { curr_node.data } | --> \" , end = \"\" )\n",
        "  curr_node = curr_node.next\n",
        "print(\"\")\n"
      ],
      "execution_count": 19,
      "outputs": [
        {
          "output_type": "stream",
          "name": "stdout",
          "text": [
            "Primero=10\n",
            "Segundo=20\n",
            "Primero=10\n",
            "Segundo=20\n",
            "| 10 | --> | 20 | --> \n"
          ]
        }
      ]
    },
    {
      "cell_type": "code",
      "metadata": {
        "colab": {
          "base_uri": "https://localhost:8080/"
        },
        "id": "UdAoJZtA66S-",
        "outputId": "a1a51cfd-2a7d-4a18-e679-bb70c5ef2719"
      },
      "source": [
        "head = Nodo(10,Nodo(20,Nodo(30,Nodo(40))))\n",
        "curr_node = head\n",
        "while curr_node != None:\n",
        "  print(f\"| { curr_node.data } | --> \" , end = \"\" )\n",
        "  curr_node = curr_node.next\n",
        "print(\"\")\n",
        "#Vamos a imprimir el primero\n",
        "print(head.data)\n",
        "#Vamos a imprimir el ultimo \n",
        "curr_node = head\n",
        "while curr_node.next != None:\n",
        "  curr_node = curr_node.next\n",
        "print(curr_node.data)  \n",
        "\n",
        "#Insertar el nodo 25, despues el nodo 20 y antes \n",
        "curr_node = head\n",
        "while curr_node.data != 20:\n",
        "  curr_node = curr_node.next\n",
        "  print(curr_node.data)\n",
        "\n",
        "#Crear el nodo 25\n",
        "curr_node.next = Nodo(25, curr_node.next)\n",
        "print(\"Despues de insertar el 25\")\n",
        "while curr_node != None:\n",
        "  print(f\"{curr_node.data} | -->\" , end=\"\")\n",
        "  curr_node = curr_node.next\n",
        "print(\"\")  "
      ],
      "execution_count": 20,
      "outputs": [
        {
          "output_type": "stream",
          "name": "stdout",
          "text": [
            "| 10 | --> | 20 | --> | 30 | --> | 40 | --> \n",
            "10\n",
            "40\n",
            "20\n",
            "Despues de insertar el 25\n",
            "20 | -->25 | -->30 | -->40 | -->\n"
          ]
        }
      ]
    },
    {
      "cell_type": "code",
      "metadata": {
        "colab": {
          "base_uri": "https://localhost:8080/"
        },
        "id": "zS_M_Y2ibEWW",
        "outputId": "3913535b-f66c-421f-f598-b2e721e4ff77"
      },
      "source": [
        "a = 10\n",
        "b = 20\n",
        "c = 15\n",
        "c = c + a\n",
        "\n",
        "c = (c + a) * b\n",
        "print(c)"
      ],
      "execution_count": 21,
      "outputs": [
        {
          "output_type": "stream",
          "name": "stdout",
          "text": [
            "700\n"
          ]
        }
      ]
    },
    {
      "cell_type": "code",
      "metadata": {
        "id": "cJNKZbzGc-jJ"
      },
      "source": [
        "class Nodo:\n",
        "  def __init__(self,value,siguiente = None):\n",
        "    self.data= value\n",
        "    self.next= siguiente\n",
        "\n",
        "class LinkedList:\n",
        "  def __init__(self):\n",
        "    self.head = None\n",
        "\n",
        "  def is_empty (self):\n",
        "    return self.head == None\n",
        "\n",
        "  def get_tail(self):\n",
        "    if self.is_empty():\n",
        "      return None\n",
        "    else:\n",
        "      curr_node = self.head\n",
        "      while curr_node.next != None:\n",
        "        curr_node = curr_node.next\n",
        "      return curr_node\n",
        "\n",
        "  def append( self, value):\n",
        "    if self.head == None:\n",
        "        self.head = Nodo(value)\n",
        "    else:\n",
        "      curr_node = self.head\n",
        "      while curr_node.next != None:\n",
        "        curr_node = curr_node.next\n",
        "      curr_node.next = Nodo(value)\n",
        "\n",
        "  def transversal (self):\n",
        "    curr_node = self.head\n",
        "    while curr_node != None:\n",
        "      print(f\"| {curr_node.data} | -->\", end=\"\")\n",
        "      curr_node = curr_node.next\n",
        "    print (\"\")\n",
        "\n",
        "  def remove ( self , value):\n",
        "    if self.head == None:\n",
        "      print(\"Lista vacia, no se pudo remover nada\")\n",
        "    else:\n",
        "      curr_node = self.head\n",
        "      aux = None\n",
        "      while curr_node.data != value:\n",
        "        aux = curr_node\n",
        "        curr_node = curr_node.next\n",
        "        \n",
        "      if curr_node != None:\n",
        "        aux.next = curr_node.next\n",
        "        curr_node = None\n",
        "\n",
        "  def preppend ( self, value):\n",
        "    if self.head != None:\n",
        "      print(\"esta vacio\")\n",
        "    else:\n",
        "      aux = self.head\n",
        "      self.head = Nodo (value,aux)\n",
        "\n",
        "  def pop(self):\n",
        "    curr_node = self.head \n",
        "    while curr_node.next.next != None:      \n",
        "      curr_node = curr_node.next\n",
        "    print(curr_node.next.data)\n",
        "    curr_node.next = None\n",
        "\n",
        "  def pop_first(self):\n",
        "    print(self.head.data)\n",
        "    self.head = self.head.next"
      ],
      "execution_count": 24,
      "outputs": []
    },
    {
      "cell_type": "code",
      "metadata": {
        "colab": {
          "base_uri": "https://localhost:8080/"
        },
        "id": "OrOjoqfgfz84",
        "outputId": "c397b555-2da3-412b-fc73-e938ccd77c8e"
      },
      "source": [
        "lista = LinkedList()\n",
        "\n",
        "if lista.is_empty:\n",
        "  print(\"La lista esta vacia\")\n",
        "else:\n",
        "  print(\"La lista no esta vacia\")\n",
        "\n",
        "lista.append(10)\n",
        "lista.append(20)\n",
        "lista.append(30)\n",
        "lista.append(40)\n",
        "lista.append(50)\n",
        "\n",
        "nodo = lista.get_tail()\n",
        "if nodo != None:\n",
        "  print(nodo.data)\n",
        "else: \n",
        "  print(\"La lista esta vacia\")\n",
        "\n",
        "lista.transversal()\n",
        "lista.remove(30)\n",
        "lista.transversal()\n",
        "lista.preppend(5)\n",
        "print(\"Despues del preppend\")\n",
        "lista.transversal()\n",
        "print(\"Esto despues de pop\")\n",
        "lista.pop()\n",
        "lista.transversal()\n",
        "print(\"Esto despues de pop first\")\n",
        "lista.pop_first()\n",
        "lista.transversal()"
      ],
      "execution_count": 25,
      "outputs": [
        {
          "output_type": "stream",
          "name": "stdout",
          "text": [
            "La lista esta vacia\n",
            "50\n",
            "| 10 | -->| 20 | -->| 30 | -->| 40 | -->| 50 | -->\n",
            "| 10 | -->| 20 | -->| 40 | -->| 50 | -->\n",
            "esta vacio\n",
            "Despues del preppend\n",
            "| 10 | -->| 20 | -->| 40 | -->| 50 | -->\n",
            "Esto despues de pop\n",
            "50\n",
            "| 10 | -->| 20 | -->| 40 | -->\n",
            "Esto despues de pop first\n",
            "10\n",
            "| 20 | -->| 40 | -->\n"
          ]
        }
      ]
    }
  ]
}